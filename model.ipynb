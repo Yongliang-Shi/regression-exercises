{
 "cells": [
  {
   "cell_type": "markdown",
   "metadata": {},
   "source": [
    "## Use the `telco` dataset for modeling"
   ]
  },
  {
   "cell_type": "code",
   "execution_count": 43,
   "metadata": {},
   "outputs": [],
   "source": [
    "import warnings\n",
    "warnings.filterwarnings(\"ignore\")\n",
    "\n",
    "import numpy as np\n",
    "import pandas as pd\n",
    "\n",
    "import matplotlib.pyplot as plt\n",
    "import seaborn as sns\n",
    "\n",
    "import acquire, prepare, wrangle, explore, model\n",
    "\n",
    "from sklearn.metrics import mean_squared_error\n",
    "from sklearn.linear_model import LinearRegression, LassoLars\n",
    "from sklearn.preprocessing import PolynomialFeatures"
   ]
  },
  {
   "cell_type": "code",
   "execution_count": 2,
   "metadata": {},
   "outputs": [
    {
     "data": {
      "text/html": [
       "<div>\n",
       "<style scoped>\n",
       "    .dataframe tbody tr th:only-of-type {\n",
       "        vertical-align: middle;\n",
       "    }\n",
       "\n",
       "    .dataframe tbody tr th {\n",
       "        vertical-align: top;\n",
       "    }\n",
       "\n",
       "    .dataframe thead th {\n",
       "        text-align: right;\n",
       "    }\n",
       "</style>\n",
       "<table border=\"1\" class=\"dataframe\">\n",
       "  <thead>\n",
       "    <tr style=\"text-align: right;\">\n",
       "      <th></th>\n",
       "      <th>customer_id</th>\n",
       "      <th>monthly_charges</th>\n",
       "      <th>tenure</th>\n",
       "      <th>total_charges</th>\n",
       "    </tr>\n",
       "  </thead>\n",
       "  <tbody>\n",
       "    <tr>\n",
       "      <th>728</th>\n",
       "      <td>4573-JKNAE</td>\n",
       "      <td>19.35</td>\n",
       "      <td>12</td>\n",
       "      <td>212.30</td>\n",
       "    </tr>\n",
       "    <tr>\n",
       "      <th>366</th>\n",
       "      <td>2229-DPMBI</td>\n",
       "      <td>19.50</td>\n",
       "      <td>8</td>\n",
       "      <td>162.15</td>\n",
       "    </tr>\n",
       "    <tr>\n",
       "      <th>262</th>\n",
       "      <td>1568-LJSZU</td>\n",
       "      <td>92.20</td>\n",
       "      <td>68</td>\n",
       "      <td>6392.85</td>\n",
       "    </tr>\n",
       "    <tr>\n",
       "      <th>1629</th>\n",
       "      <td>9661-JALZV</td>\n",
       "      <td>24.70</td>\n",
       "      <td>58</td>\n",
       "      <td>1519.00</td>\n",
       "    </tr>\n",
       "    <tr>\n",
       "      <th>568</th>\n",
       "      <td>3498-LZGQZ</td>\n",
       "      <td>19.15</td>\n",
       "      <td>63</td>\n",
       "      <td>1177.05</td>\n",
       "    </tr>\n",
       "  </tbody>\n",
       "</table>\n",
       "</div>"
      ],
      "text/plain": [
       "     customer_id  monthly_charges  tenure  total_charges\n",
       "728   4573-JKNAE            19.35      12         212.30\n",
       "366   2229-DPMBI            19.50       8         162.15\n",
       "262   1568-LJSZU            92.20      68        6392.85\n",
       "1629  9661-JALZV            24.70      58        1519.00\n",
       "568   3498-LZGQZ            19.15      63        1177.05"
      ]
     },
     "execution_count": 2,
     "metadata": {},
     "output_type": "execute_result"
    }
   ],
   "source": [
    "# Load wranged telco data\n",
    "\n",
    "train, validate, test = wrangle.wrangle_telco()\n",
    "train.head()"
   ]
  },
  {
   "cell_type": "code",
   "execution_count": 3,
   "metadata": {},
   "outputs": [
    {
     "data": {
      "text/html": [
       "<div>\n",
       "<style scoped>\n",
       "    .dataframe tbody tr th:only-of-type {\n",
       "        vertical-align: middle;\n",
       "    }\n",
       "\n",
       "    .dataframe tbody tr th {\n",
       "        vertical-align: top;\n",
       "    }\n",
       "\n",
       "    .dataframe thead th {\n",
       "        text-align: right;\n",
       "    }\n",
       "</style>\n",
       "<table border=\"1\" class=\"dataframe\">\n",
       "  <thead>\n",
       "    <tr style=\"text-align: right;\">\n",
       "      <th></th>\n",
       "      <th>customer_id</th>\n",
       "      <th>monthly_charges</th>\n",
       "      <th>tenure</th>\n",
       "      <th>total_charges</th>\n",
       "      <th>monthly_charges_scaled</th>\n",
       "      <th>tenure_scaled</th>\n",
       "    </tr>\n",
       "  </thead>\n",
       "  <tbody>\n",
       "    <tr>\n",
       "      <th>728</th>\n",
       "      <td>4573-JKNAE</td>\n",
       "      <td>19.35</td>\n",
       "      <td>12</td>\n",
       "      <td>212.30</td>\n",
       "      <td>0.005503</td>\n",
       "      <td>0.154930</td>\n",
       "    </tr>\n",
       "    <tr>\n",
       "      <th>366</th>\n",
       "      <td>2229-DPMBI</td>\n",
       "      <td>19.50</td>\n",
       "      <td>8</td>\n",
       "      <td>162.15</td>\n",
       "      <td>0.007004</td>\n",
       "      <td>0.098592</td>\n",
       "    </tr>\n",
       "    <tr>\n",
       "      <th>262</th>\n",
       "      <td>1568-LJSZU</td>\n",
       "      <td>92.20</td>\n",
       "      <td>68</td>\n",
       "      <td>6392.85</td>\n",
       "      <td>0.734367</td>\n",
       "      <td>0.943662</td>\n",
       "    </tr>\n",
       "    <tr>\n",
       "      <th>1629</th>\n",
       "      <td>9661-JALZV</td>\n",
       "      <td>24.70</td>\n",
       "      <td>58</td>\n",
       "      <td>1519.00</td>\n",
       "      <td>0.059030</td>\n",
       "      <td>0.802817</td>\n",
       "    </tr>\n",
       "    <tr>\n",
       "      <th>568</th>\n",
       "      <td>3498-LZGQZ</td>\n",
       "      <td>19.15</td>\n",
       "      <td>63</td>\n",
       "      <td>1177.05</td>\n",
       "      <td>0.003502</td>\n",
       "      <td>0.873239</td>\n",
       "    </tr>\n",
       "  </tbody>\n",
       "</table>\n",
       "</div>"
      ],
      "text/plain": [
       "     customer_id  monthly_charges  tenure  total_charges  \\\n",
       "728   4573-JKNAE            19.35      12         212.30   \n",
       "366   2229-DPMBI            19.50       8         162.15   \n",
       "262   1568-LJSZU            92.20      68        6392.85   \n",
       "1629  9661-JALZV            24.70      58        1519.00   \n",
       "568   3498-LZGQZ            19.15      63        1177.05   \n",
       "\n",
       "      monthly_charges_scaled  tenure_scaled  \n",
       "728                 0.005503       0.154930  \n",
       "366                 0.007004       0.098592  \n",
       "262                 0.734367       0.943662  \n",
       "1629                0.059030       0.802817  \n",
       "568                 0.003502       0.873239  "
      ]
     },
     "execution_count": 3,
     "metadata": {},
     "output_type": "execute_result"
    }
   ],
   "source": [
    "# Scale the features\n",
    "\n",
    "columns_to_scale = ['monthly_charges', 'tenure']\n",
    "train_scaled, validate_scaled, test_scaled = prepare.scale(train, validate, test, columns_to_scale)\n",
    "\n",
    "train_scaled.head()"
   ]
  },
  {
   "cell_type": "markdown",
   "metadata": {},
   "source": [
    "### Set up Baseline"
   ]
  },
  {
   "cell_type": "code",
   "execution_count": 8,
   "metadata": {},
   "outputs": [
    {
     "data": {
      "text/plain": [
       "<matplotlib.axes._subplots.AxesSubplot at 0x7fe288d24090>"
      ]
     },
     "execution_count": 8,
     "metadata": {},
     "output_type": "execute_result"
    },
    {
     "data": {
      "image/png": "[encoded data removed]",
      "text/plain": [
       "<Figure size 432x288 with 1 Axes>"
      ]
     },
     "metadata": {
      "needs_background": "light"
     },
     "output_type": "display_data"
    }
   ],
   "source": [
    "# Plot the distribution of target var: total_charges\n",
    "\n",
    "sns.distplot(train_scaled.total_charges)"
   ]
  },
  {
   "cell_type": "code",
   "execution_count": 13,
   "metadata": {},
   "outputs": [
    {
     "data": {
      "text/plain": [
       "(3661.3474174428466, 3517.9)"
      ]
     },
     "execution_count": 13,
     "metadata": {},
     "output_type": "execute_result"
    }
   ],
   "source": [
    "# Compute the mean and median of the total_charges\n",
    "\n",
    "mean, median = train_scaled.total_charges.agg(['mean', 'median'])\n",
    "\n",
    "mean, median"
   ]
  },
  {
   "cell_type": "code",
   "execution_count": 34,
   "metadata": {},
   "outputs": [
    {
     "data": {
      "text/plain": [
       "(array([3661.34741744, 3661.34741744, 3661.34741744, 3661.34741744,\n",
       "        3661.34741744]),\n",
       " 1181)"
      ]
     },
     "execution_count": 34,
     "metadata": {},
     "output_type": "execute_result"
    }
   ],
   "source": [
    "# Compute baseline prediction using mean\n",
    "\n",
    "baseline = np.array([mean]*train_scaled.shape[0])\n",
    "baseline[:5], len(baseline)"
   ]
  },
  {
   "cell_type": "code",
   "execution_count": 62,
   "metadata": {},
   "outputs": [
    {
     "data": {
      "text/plain": [
       "total_charges    7.764795e+09\n",
       "dtype: float64"
      ]
     },
     "execution_count": 62,
     "metadata": {},
     "output_type": "execute_result"
    }
   ],
   "source": [
    "# Compute baseline sse\n",
    "\n",
    "baseline_residual = y_train - mean\n",
    "baseline_sse = (baseline_residual**2).sum()\n",
    "baseline_sse"
   ]
  },
  {
   "cell_type": "code",
   "execution_count": 63,
   "metadata": {},
   "outputs": [
    {
     "data": {
      "text/plain": [
       "total_charges    6.574763e+06\n",
       "dtype: float64"
      ]
     },
     "execution_count": 63,
     "metadata": {},
     "output_type": "execute_result"
    }
   ],
   "source": [
    "# Compute baseline mse\n",
    "\n",
    "baseline_mse = baseline_sse/train_scaled.shape[0]\n",
    "baseline_mse"
   ]
  },
  {
   "cell_type": "code",
   "execution_count": 65,
   "metadata": {},
   "outputs": [
    {
     "data": {
      "text/plain": [
       "3287381.303240738"
      ]
     },
     "execution_count": 65,
     "metadata": {},
     "output_type": "execute_result"
    }
   ],
   "source": [
    "# Compute baseline rmse\n",
    "\n",
    "baseline_rmse = mean_squared_error(y_train, baseline)**1/2\n",
    "baseline_rmse"
   ]
  },
  {
   "cell_type": "markdown",
   "metadata": {},
   "source": [
    "### LinearRegression()\n",
    "- X: \n",
    "    - monthly_charges_scaled and tenure_scaled\n",
    "    - monthly_charges_scaled\n",
    "    - tenure_scaled\n",
    "- y: total_charges"
   ]
  },
  {
   "cell_type": "code",
   "execution_count": 27,
   "metadata": {},
   "outputs": [
    {
     "data": {
      "text/html": [
       "<div>\n",
       "<style scoped>\n",
       "    .dataframe tbody tr th:only-of-type {\n",
       "        vertical-align: middle;\n",
       "    }\n",
       "\n",
       "    .dataframe tbody tr th {\n",
       "        vertical-align: top;\n",
       "    }\n",
       "\n",
       "    .dataframe thead th {\n",
       "        text-align: right;\n",
       "    }\n",
       "</style>\n",
       "<table border=\"1\" class=\"dataframe\">\n",
       "  <thead>\n",
       "    <tr style=\"text-align: right;\">\n",
       "      <th></th>\n",
       "      <th>monthly_charges_scaled</th>\n",
       "      <th>tenure_scaled</th>\n",
       "    </tr>\n",
       "  </thead>\n",
       "  <tbody>\n",
       "    <tr>\n",
       "      <th>728</th>\n",
       "      <td>0.005503</td>\n",
       "      <td>0.154930</td>\n",
       "    </tr>\n",
       "    <tr>\n",
       "      <th>366</th>\n",
       "      <td>0.007004</td>\n",
       "      <td>0.098592</td>\n",
       "    </tr>\n",
       "    <tr>\n",
       "      <th>262</th>\n",
       "      <td>0.734367</td>\n",
       "      <td>0.943662</td>\n",
       "    </tr>\n",
       "    <tr>\n",
       "      <th>1629</th>\n",
       "      <td>0.059030</td>\n",
       "      <td>0.802817</td>\n",
       "    </tr>\n",
       "    <tr>\n",
       "      <th>568</th>\n",
       "      <td>0.003502</td>\n",
       "      <td>0.873239</td>\n",
       "    </tr>\n",
       "  </tbody>\n",
       "</table>\n",
       "</div>"
      ],
      "text/plain": [
       "      monthly_charges_scaled  tenure_scaled\n",
       "728                 0.005503       0.154930\n",
       "366                 0.007004       0.098592\n",
       "262                 0.734367       0.943662\n",
       "1629                0.059030       0.802817\n",
       "568                 0.003502       0.873239"
      ]
     },
     "execution_count": 27,
     "metadata": {},
     "output_type": "execute_result"
    }
   ],
   "source": [
    "# Use both features for X\n",
    "\n",
    "X_train_scaled = train_scaled[['monthly_charges_scaled', 'tenure_scaled']]\n",
    "y_train = train_scaled[['total_charges']]\n",
    "\n",
    "X_train_scaled.head()"
   ]
  },
  {
   "cell_type": "code",
   "execution_count": 40,
   "metadata": {},
   "outputs": [
    {
     "data": {
      "text/html": [
       "<div>\n",
       "<style scoped>\n",
       "    .dataframe tbody tr th:only-of-type {\n",
       "        vertical-align: middle;\n",
       "    }\n",
       "\n",
       "    .dataframe tbody tr th {\n",
       "        vertical-align: top;\n",
       "    }\n",
       "\n",
       "    .dataframe thead th {\n",
       "        text-align: right;\n",
       "    }\n",
       "</style>\n",
       "<table border=\"1\" class=\"dataframe\">\n",
       "  <thead>\n",
       "    <tr style=\"text-align: right;\">\n",
       "      <th></th>\n",
       "      <th>total_charges</th>\n",
       "    </tr>\n",
       "  </thead>\n",
       "  <tbody>\n",
       "    <tr>\n",
       "      <th>728</th>\n",
       "      <td>212.30</td>\n",
       "    </tr>\n",
       "    <tr>\n",
       "      <th>366</th>\n",
       "      <td>162.15</td>\n",
       "    </tr>\n",
       "    <tr>\n",
       "      <th>262</th>\n",
       "      <td>6392.85</td>\n",
       "    </tr>\n",
       "    <tr>\n",
       "      <th>1629</th>\n",
       "      <td>1519.00</td>\n",
       "    </tr>\n",
       "    <tr>\n",
       "      <th>568</th>\n",
       "      <td>1177.05</td>\n",
       "    </tr>\n",
       "  </tbody>\n",
       "</table>\n",
       "</div>"
      ],
      "text/plain": [
       "      total_charges\n",
       "728          212.30\n",
       "366          162.15\n",
       "262         6392.85\n",
       "1629        1519.00\n",
       "568         1177.05"
      ]
     },
     "execution_count": 40,
     "metadata": {},
     "output_type": "execute_result"
    }
   ],
   "source": [
    "y_train.head()"
   ]
  },
  {
   "cell_type": "code",
   "execution_count": 31,
   "metadata": {},
   "outputs": [
    {
     "data": {
      "text/plain": [
       "(1181, 1)"
      ]
     },
     "execution_count": 31,
     "metadata": {},
     "output_type": "execute_result"
    }
   ],
   "source": [
    "y_train.shape"
   ]
  },
  {
   "cell_type": "code",
   "execution_count": 45,
   "metadata": {},
   "outputs": [
    {
     "data": {
      "text/plain": [
       "LinearRegression(copy_X=True, fit_intercept=True, n_jobs=None, normalize=True)"
      ]
     },
     "execution_count": 45,
     "metadata": {},
     "output_type": "execute_result"
    }
   ],
   "source": [
    "# Create LinearRegression() Object and fit the scaled train dataset\n",
    "\n",
    "lm = LinearRegression(normalize=True)\n",
    "lm.fit(X_train_scaled, y_train)"
   ]
  },
  {
   "cell_type": "code",
   "execution_count": 47,
   "metadata": {},
   "outputs": [],
   "source": [
    "# Compute the predicted y\n",
    "\n",
    "lm_pred = lm.predict(X_train_scaled)"
   ]
  },
  {
   "cell_type": "code",
   "execution_count": 49,
   "metadata": {},
   "outputs": [
    {
     "data": {
      "text/plain": [
       "121575.74320496806"
      ]
     },
     "execution_count": 49,
     "metadata": {},
     "output_type": "execute_result"
    }
   ],
   "source": [
    "# Compute the rmse of lm modeling\n",
    "\n",
    "lm_rmse = mean_squared_error(y_train, lm_pred)**1/2\n",
    "lm_rmse"
   ]
  },
  {
   "cell_type": "code",
   "execution_count": 66,
   "metadata": {},
   "outputs": [
    {
     "data": {
      "text/html": [
       "<div>\n",
       "<style scoped>\n",
       "    .dataframe tbody tr th:only-of-type {\n",
       "        vertical-align: middle;\n",
       "    }\n",
       "\n",
       "    .dataframe tbody tr th {\n",
       "        vertical-align: top;\n",
       "    }\n",
       "\n",
       "    .dataframe thead th {\n",
       "        text-align: right;\n",
       "    }\n",
       "</style>\n",
       "<table border=\"1\" class=\"dataframe\">\n",
       "  <thead>\n",
       "    <tr style=\"text-align: right;\">\n",
       "      <th></th>\n",
       "      <th>baseline_sse</th>\n",
       "      <th>model_sse</th>\n",
       "      <th>model_mse</th>\n",
       "      <th>model_rmse</th>\n",
       "      <th>r2</th>\n",
       "      <th>f_pval</th>\n",
       "    </tr>\n",
       "  </thead>\n",
       "  <tbody>\n",
       "    <tr>\n",
       "      <th>monthly_charges_scaled</th>\n",
       "      <td>7.764795e+09</td>\n",
       "      <td>8.414758e+08</td>\n",
       "      <td>7.125113e+05</td>\n",
       "      <td>844.103823</td>\n",
       "      <td>0.891629</td>\n",
       "      <td>0.000000e+00</td>\n",
       "    </tr>\n",
       "    <tr>\n",
       "      <th>tenure_scaled</th>\n",
       "      <td>7.764795e+09</td>\n",
       "      <td>4.670772e+09</td>\n",
       "      <td>3.954930e+06</td>\n",
       "      <td>1988.700460</td>\n",
       "      <td>0.398468</td>\n",
       "      <td>2.743646e-132</td>\n",
       "    </tr>\n",
       "  </tbody>\n",
       "</table>\n",
       "</div>"
      ],
      "text/plain": [
       "                        baseline_sse     model_sse     model_mse   model_rmse  \\\n",
       "monthly_charges_scaled  7.764795e+09  8.414758e+08  7.125113e+05   844.103823   \n",
       "tenure_scaled           7.764795e+09  4.670772e+09  3.954930e+06  1988.700460   \n",
       "\n",
       "                              r2         f_pval  \n",
       "monthly_charges_scaled  0.891629   0.000000e+00  \n",
       "tenure_scaled           0.398468  2.743646e-132  "
      ]
     },
     "execution_count": 66,
     "metadata": {},
     "output_type": "execute_result"
    }
   ],
   "source": [
    "# Call functions to calculate the model rmse of simple linear regression\n",
    "\n",
    "model.compare_slr_metrics('total_charges', ['monthly_charges_scaled', 'tenure_scaled'], train_scaled)"
   ]
  },
  {
   "cell_type": "markdown",
   "metadata": {},
   "source": [
    "**Takeways**\n",
    "- Model_rmse in ascending order: `monthly_charges_scaled` --> `tenure_scaled` --> `both`"
   ]
  },
  {
   "cell_type": "markdown",
   "metadata": {},
   "source": [
    "### LassoLars()\n",
    "- X: monthly_charges_scaled and tenure_scaled\n",
    "- y: total_charges"
   ]
  },
  {
   "cell_type": "code",
   "execution_count": 51,
   "metadata": {},
   "outputs": [],
   "source": [
    "# Create, fit , predict\n",
    "\n",
    "lars = LassoLars(alpha=0.1)\n",
    "lars.fit(X_train_scaled, y_train)\n",
    "lars_pred = lars.predict(X_train_scaled)"
   ]
  },
  {
   "cell_type": "code",
   "execution_count": 52,
   "metadata": {},
   "outputs": [
    {
     "data": {
      "text/plain": [
       "121584.1162081148"
      ]
     },
     "execution_count": 52,
     "metadata": {},
     "output_type": "execute_result"
    }
   ],
   "source": [
    "# Compute rmse of lars\n",
    "\n",
    "lars_rmse = mean_squared_error(y_train, lars_pred)**1/2\n",
    "lars_rmse"
   ]
  },
  {
   "cell_type": "markdown",
   "metadata": {},
   "source": [
    "### PolynomialFeatures + LinearRegression\n",
    "- 2nd degress polynomial\n",
    "- X: monthly_charges_scaled and tenure_scaled\n",
    "- y: total_charges"
   ]
  },
  {
   "cell_type": "code",
   "execution_count": 67,
   "metadata": {},
   "outputs": [
    {
     "data": {
      "text/html": [
       "<div>\n",
       "<style scoped>\n",
       "    .dataframe tbody tr th:only-of-type {\n",
       "        vertical-align: middle;\n",
       "    }\n",
       "\n",
       "    .dataframe tbody tr th {\n",
       "        vertical-align: top;\n",
       "    }\n",
       "\n",
       "    .dataframe thead th {\n",
       "        text-align: right;\n",
       "    }\n",
       "</style>\n",
       "<table border=\"1\" class=\"dataframe\">\n",
       "  <thead>\n",
       "    <tr style=\"text-align: right;\">\n",
       "      <th></th>\n",
       "      <th>monthly_charges_scaled</th>\n",
       "      <th>tenure_scaled</th>\n",
       "    </tr>\n",
       "  </thead>\n",
       "  <tbody>\n",
       "    <tr>\n",
       "      <th>728</th>\n",
       "      <td>0.005503</td>\n",
       "      <td>0.154930</td>\n",
       "    </tr>\n",
       "    <tr>\n",
       "      <th>366</th>\n",
       "      <td>0.007004</td>\n",
       "      <td>0.098592</td>\n",
       "    </tr>\n",
       "    <tr>\n",
       "      <th>262</th>\n",
       "      <td>0.734367</td>\n",
       "      <td>0.943662</td>\n",
       "    </tr>\n",
       "    <tr>\n",
       "      <th>1629</th>\n",
       "      <td>0.059030</td>\n",
       "      <td>0.802817</td>\n",
       "    </tr>\n",
       "    <tr>\n",
       "      <th>568</th>\n",
       "      <td>0.003502</td>\n",
       "      <td>0.873239</td>\n",
       "    </tr>\n",
       "  </tbody>\n",
       "</table>\n",
       "</div>"
      ],
      "text/plain": [
       "      monthly_charges_scaled  tenure_scaled\n",
       "728                 0.005503       0.154930\n",
       "366                 0.007004       0.098592\n",
       "262                 0.734367       0.943662\n",
       "1629                0.059030       0.802817\n",
       "568                 0.003502       0.873239"
      ]
     },
     "execution_count": 67,
     "metadata": {},
     "output_type": "execute_result"
    }
   ],
   "source": [
    "X_train_scaled.head()"
   ]
  },
  {
   "cell_type": "code",
   "execution_count": 68,
   "metadata": {},
   "outputs": [],
   "source": [
    "# Create, fit-transform\n",
    "\n",
    "pf = PolynomialFeatures(degree=2)\n",
    "X_train_scaled_squared = pf.fit_transform(X_train_scaled)"
   ]
  },
  {
   "cell_type": "code",
   "execution_count": 69,
   "metadata": {},
   "outputs": [],
   "source": [
    "# fit and predict\n",
    "\n",
    "lm_squared = LinearRegression()\n",
    "lm_squared.fit(X_train_scaled_squared, y_train)\n",
    "lm_squared_pred = lm_squared.predict(X_train_scaled_squared)"
   ]
  },
  {
   "cell_type": "code",
   "execution_count": 70,
   "metadata": {},
   "outputs": [
    {
     "data": {
      "text/plain": [
       "3718.5976275253383"
      ]
     },
     "execution_count": 70,
     "metadata": {},
     "output_type": "execute_result"
    }
   ],
   "source": [
    "# Compute model rmse\n",
    "\n",
    "lm_squared_rmse = mean_squared_error(y_train, lm_squared_pred)**1/2\n",
    "lm_squared_rmse"
   ]
  },
  {
   "cell_type": "code",
   "execution_count": null,
   "metadata": {},
   "outputs": [],
   "source": []
  }
 ],
 "metadata": {
  "kernelspec": {
   "display_name": "Python 3",
   "language": "python",
   "name": "python3"
  },
  "language_info": {
   "codemirror_mode": {
    "name": "ipython",
    "version": 3
   },
   "file_extension": ".py",
   "mimetype": "text/x-python",
   "name": "python",
   "nbconvert_exporter": "python",
   "pygments_lexer": "ipython3",
   "version": "3.7.6"
  }
 },
 "nbformat": 4,
 "nbformat_minor": 4
}
