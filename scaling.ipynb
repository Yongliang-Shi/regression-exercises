{
 "cells": [
  {
   "cell_type": "markdown",
   "metadata": {},
   "source": [
    "## Exercise\n",
    "### Do your work for these exercises in a jupyter notebook named `scaling`. Use the `telco` dataset. Once you are finished, you may wish to repeat the exercises on another dataset for additional practice."
   ]
  },
  {
   "cell_type": "code",
   "execution_count": 1,
   "metadata": {},
   "outputs": [],
   "source": [
    "import warnings\n",
    "warnings.filterwarnings(\"ignore\")\n",
    "import os\n",
    "\n",
    "import pandas as pd\n",
    "import numpy as np\n",
    "\n",
    "import wrangle\n",
    "\n",
    "import matplotlib.pyplot as plt\n",
    "import seaborn as sns\n",
    "\n",
    "import sklearn.preprocessing"
   ]
  },
  {
   "cell_type": "code",
   "execution_count": 2,
   "metadata": {},
   "outputs": [
    {
     "data": {
      "text/html": [
       "<div>\n",
       "<style scoped>\n",
       "    .dataframe tbody tr th:only-of-type {\n",
       "        vertical-align: middle;\n",
       "    }\n",
       "\n",
       "    .dataframe tbody tr th {\n",
       "        vertical-align: top;\n",
       "    }\n",
       "\n",
       "    .dataframe thead th {\n",
       "        text-align: right;\n",
       "    }\n",
       "</style>\n",
       "<table border=\"1\" class=\"dataframe\">\n",
       "  <thead>\n",
       "    <tr style=\"text-align: right;\">\n",
       "      <th></th>\n",
       "      <th>customer_id</th>\n",
       "      <th>monthly_charges</th>\n",
       "      <th>tenure</th>\n",
       "      <th>total_charges</th>\n",
       "    </tr>\n",
       "  </thead>\n",
       "  <tbody>\n",
       "    <tr>\n",
       "      <th>728</th>\n",
       "      <td>4573-JKNAE</td>\n",
       "      <td>19.35</td>\n",
       "      <td>12</td>\n",
       "      <td>212.30</td>\n",
       "    </tr>\n",
       "    <tr>\n",
       "      <th>366</th>\n",
       "      <td>2229-DPMBI</td>\n",
       "      <td>19.50</td>\n",
       "      <td>8</td>\n",
       "      <td>162.15</td>\n",
       "    </tr>\n",
       "    <tr>\n",
       "      <th>262</th>\n",
       "      <td>1568-LJSZU</td>\n",
       "      <td>92.20</td>\n",
       "      <td>68</td>\n",
       "      <td>6392.85</td>\n",
       "    </tr>\n",
       "    <tr>\n",
       "      <th>1629</th>\n",
       "      <td>9661-JALZV</td>\n",
       "      <td>24.70</td>\n",
       "      <td>58</td>\n",
       "      <td>1519.00</td>\n",
       "    </tr>\n",
       "    <tr>\n",
       "      <th>568</th>\n",
       "      <td>3498-LZGQZ</td>\n",
       "      <td>19.15</td>\n",
       "      <td>63</td>\n",
       "      <td>1177.05</td>\n",
       "    </tr>\n",
       "  </tbody>\n",
       "</table>\n",
       "</div>"
      ],
      "text/plain": [
       "     customer_id  monthly_charges  tenure  total_charges\n",
       "728   4573-JKNAE            19.35      12         212.30\n",
       "366   2229-DPMBI            19.50       8         162.15\n",
       "262   1568-LJSZU            92.20      68        6392.85\n",
       "1629  9661-JALZV            24.70      58        1519.00\n",
       "568   3498-LZGQZ            19.15      63        1177.05"
      ]
     },
     "execution_count": 2,
     "metadata": {},
     "output_type": "execute_result"
    }
   ],
   "source": [
    "train, validate, test = wrangle.wrangle_telco()\n",
    "train.head()"
   ]
  },
  {
   "cell_type": "markdown",
   "metadata": {},
   "source": [
    "### 1. Apply the scalers we talked about in this lesson to your data and visualize the results in a way that can."
   ]
  },
  {
   "cell_type": "code",
   "execution_count": 3,
   "metadata": {},
   "outputs": [
    {
     "data": {
      "text/plain": [
       "(MinMaxScaler(copy=True, feature_range=(0, 1)),\n",
       " StandardScaler(copy=True, with_mean=True, with_std=True),\n",
       " RobustScaler(copy=True, quantile_range=(25.0, 75.0), with_centering=True,\n",
       "              with_scaling=True))"
      ]
     },
     "execution_count": 3,
     "metadata": {},
     "output_type": "execute_result"
    }
   ],
   "source": [
    "# Create 3 linear scalers: min-max, standard, and robust\n",
    "\n",
    "scaler_minmax = sklearn.preprocessing.MinMaxScaler()\n",
    "scaler_standard = sklearn.preprocessing.StandardScaler()\n",
    "scaler_robust = sklearn.preprocessing.RobustScaler()\n",
    "\n",
    "scaler_minmax, scaler_standard, scaler_robust"
   ]
  },
  {
   "cell_type": "code",
   "execution_count": 4,
   "metadata": {},
   "outputs": [],
   "source": [
    "# Define the function that add scaled columns\n",
    "\n",
    "def add_scaled_columns(train, validate, test, scaler, columns_to_scale):\n",
    "    new_column_names = [c + '_scaled' for c in columns_to_scale]\n",
    "    scaler.fit(train[columns_to_scale])\n",
    "\n",
    "    train = pd.concat([\n",
    "        train,\n",
    "        pd.DataFrame(scaler.transform(train[columns_to_scale]), columns=new_column_names, index=train.index),\n",
    "    ], axis=1)\n",
    "    validate = pd.concat([\n",
    "        validate,\n",
    "        pd.DataFrame(scaler.transform(validate[columns_to_scale]), columns=new_column_names, index=validate.index),\n",
    "    ], axis=1)\n",
    "    test = pd.concat([\n",
    "        test,\n",
    "        pd.DataFrame(scaler.transform(test[columns_to_scale]), columns=new_column_names, index=test.index),\n",
    "    ], axis=1)\n",
    "    \n",
    "    return train, validate, test"
   ]
  },
  {
   "cell_type": "code",
   "execution_count": 5,
   "metadata": {},
   "outputs": [
    {
     "data": {
      "text/html": [
       "<div>\n",
       "<style scoped>\n",
       "    .dataframe tbody tr th:only-of-type {\n",
       "        vertical-align: middle;\n",
       "    }\n",
       "\n",
       "    .dataframe tbody tr th {\n",
       "        vertical-align: top;\n",
       "    }\n",
       "\n",
       "    .dataframe thead th {\n",
       "        text-align: right;\n",
       "    }\n",
       "</style>\n",
       "<table border=\"1\" class=\"dataframe\">\n",
       "  <thead>\n",
       "    <tr style=\"text-align: right;\">\n",
       "      <th></th>\n",
       "      <th>customer_id</th>\n",
       "      <th>monthly_charges</th>\n",
       "      <th>tenure</th>\n",
       "      <th>total_charges</th>\n",
       "    </tr>\n",
       "  </thead>\n",
       "  <tbody>\n",
       "    <tr>\n",
       "      <th>728</th>\n",
       "      <td>4573-JKNAE</td>\n",
       "      <td>19.35</td>\n",
       "      <td>12</td>\n",
       "      <td>212.30</td>\n",
       "    </tr>\n",
       "    <tr>\n",
       "      <th>366</th>\n",
       "      <td>2229-DPMBI</td>\n",
       "      <td>19.50</td>\n",
       "      <td>8</td>\n",
       "      <td>162.15</td>\n",
       "    </tr>\n",
       "    <tr>\n",
       "      <th>262</th>\n",
       "      <td>1568-LJSZU</td>\n",
       "      <td>92.20</td>\n",
       "      <td>68</td>\n",
       "      <td>6392.85</td>\n",
       "    </tr>\n",
       "    <tr>\n",
       "      <th>1629</th>\n",
       "      <td>9661-JALZV</td>\n",
       "      <td>24.70</td>\n",
       "      <td>58</td>\n",
       "      <td>1519.00</td>\n",
       "    </tr>\n",
       "    <tr>\n",
       "      <th>568</th>\n",
       "      <td>3498-LZGQZ</td>\n",
       "      <td>19.15</td>\n",
       "      <td>63</td>\n",
       "      <td>1177.05</td>\n",
       "    </tr>\n",
       "  </tbody>\n",
       "</table>\n",
       "</div>"
      ],
      "text/plain": [
       "     customer_id  monthly_charges  tenure  total_charges\n",
       "728   4573-JKNAE            19.35      12         212.30\n",
       "366   2229-DPMBI            19.50       8         162.15\n",
       "262   1568-LJSZU            92.20      68        6392.85\n",
       "1629  9661-JALZV            24.70      58        1519.00\n",
       "568   3498-LZGQZ            19.15      63        1177.05"
      ]
     },
     "execution_count": 5,
     "metadata": {},
     "output_type": "execute_result"
    }
   ],
   "source": [
    "train.head()"
   ]
  },
  {
   "cell_type": "code",
   "execution_count": 6,
   "metadata": {
    "scrolled": true
   },
   "outputs": [],
   "source": [
    "# Min-Max Scaling\n",
    "\n",
    "columns_to_scale = ['monthly_charges', 'tenure', 'total_charges']\n",
    "\n",
    "train_minmax, validate_minmax, test_minmax = add_scaled_columns(train, validate, test, \n",
    "                                                                scaler_minmax, \n",
    "                                                                columns_to_scale)"
   ]
  },
  {
   "cell_type": "code",
   "execution_count": 7,
   "metadata": {},
   "outputs": [
    {
     "data": {
      "text/html": [
       "<div>\n",
       "<style scoped>\n",
       "    .dataframe tbody tr th:only-of-type {\n",
       "        vertical-align: middle;\n",
       "    }\n",
       "\n",
       "    .dataframe tbody tr th {\n",
       "        vertical-align: top;\n",
       "    }\n",
       "\n",
       "    .dataframe thead th {\n",
       "        text-align: right;\n",
       "    }\n",
       "</style>\n",
       "<table border=\"1\" class=\"dataframe\">\n",
       "  <thead>\n",
       "    <tr style=\"text-align: right;\">\n",
       "      <th></th>\n",
       "      <th>customer_id</th>\n",
       "      <th>monthly_charges</th>\n",
       "      <th>tenure</th>\n",
       "      <th>total_charges</th>\n",
       "      <th>monthly_charges_scaled</th>\n",
       "      <th>tenure_scaled</th>\n",
       "      <th>total_charges_scaled</th>\n",
       "    </tr>\n",
       "  </thead>\n",
       "  <tbody>\n",
       "    <tr>\n",
       "      <th>728</th>\n",
       "      <td>4573-JKNAE</td>\n",
       "      <td>19.35</td>\n",
       "      <td>12</td>\n",
       "      <td>212.30</td>\n",
       "      <td>0.005503</td>\n",
       "      <td>0.154930</td>\n",
       "      <td>0.022185</td>\n",
       "    </tr>\n",
       "    <tr>\n",
       "      <th>366</th>\n",
       "      <td>2229-DPMBI</td>\n",
       "      <td>19.50</td>\n",
       "      <td>8</td>\n",
       "      <td>162.15</td>\n",
       "      <td>0.007004</td>\n",
       "      <td>0.098592</td>\n",
       "      <td>0.016389</td>\n",
       "    </tr>\n",
       "    <tr>\n",
       "      <th>262</th>\n",
       "      <td>1568-LJSZU</td>\n",
       "      <td>92.20</td>\n",
       "      <td>68</td>\n",
       "      <td>6392.85</td>\n",
       "      <td>0.734367</td>\n",
       "      <td>0.943662</td>\n",
       "      <td>0.736526</td>\n",
       "    </tr>\n",
       "    <tr>\n",
       "      <th>1629</th>\n",
       "      <td>9661-JALZV</td>\n",
       "      <td>24.70</td>\n",
       "      <td>58</td>\n",
       "      <td>1519.00</td>\n",
       "      <td>0.059030</td>\n",
       "      <td>0.802817</td>\n",
       "      <td>0.173212</td>\n",
       "    </tr>\n",
       "    <tr>\n",
       "      <th>568</th>\n",
       "      <td>3498-LZGQZ</td>\n",
       "      <td>19.15</td>\n",
       "      <td>63</td>\n",
       "      <td>1177.05</td>\n",
       "      <td>0.003502</td>\n",
       "      <td>0.873239</td>\n",
       "      <td>0.133690</td>\n",
       "    </tr>\n",
       "  </tbody>\n",
       "</table>\n",
       "</div>"
      ],
      "text/plain": [
       "     customer_id  monthly_charges  tenure  total_charges  \\\n",
       "728   4573-JKNAE            19.35      12         212.30   \n",
       "366   2229-DPMBI            19.50       8         162.15   \n",
       "262   1568-LJSZU            92.20      68        6392.85   \n",
       "1629  9661-JALZV            24.70      58        1519.00   \n",
       "568   3498-LZGQZ            19.15      63        1177.05   \n",
       "\n",
       "      monthly_charges_scaled  tenure_scaled  total_charges_scaled  \n",
       "728                 0.005503       0.154930              0.022185  \n",
       "366                 0.007004       0.098592              0.016389  \n",
       "262                 0.734367       0.943662              0.736526  \n",
       "1629                0.059030       0.802817              0.173212  \n",
       "568                 0.003502       0.873239              0.133690  "
      ]
     },
     "execution_count": 7,
     "metadata": {},
     "output_type": "execute_result"
    }
   ],
   "source": [
    "train_minmax.head()"
   ]
  },
  {
   "cell_type": "code",
   "execution_count": 12,
   "metadata": {},
   "outputs": [
    {
     "data": {
      "text/plain": [
       "Text(0.5, 1.0, 'Scaled total_charges')"
      ]
     },
     "execution_count": 12,
     "metadata": {},
     "output_type": "execute_result"
    },
    {
     "data": {
      "image/png": "[encoded data removed]",
      "text/plain": [
       "<Figure size 1152x648 with 6 Axes>"
      ]
     },
     "metadata": {
      "needs_background": "light"
     },
     "output_type": "display_data"
    }
   ],
   "source": [
    "# Visualize the results of min-max scaling\n",
    "\n",
    "plt.figure(figsize=(16, 9))\n",
    "plt.subplot(321)\n",
    "plt.hist(train_minmax.monthly_charges, bins=25, ec='black')\n",
    "plt.title('Original monthly_charges')\n",
    "plt.subplot(322)\n",
    "plt.hist(train_minmax.monthly_charges_scaled, bins=25, ec='black')\n",
    "plt.title('Scaled monthly_charges')\n",
    "\n",
    "plt.subplot(323)\n",
    "plt.hist(train_minmax.tenure, bins=25, ec='black')\n",
    "plt.title('Original tenure')\n",
    "plt.subplot(324)\n",
    "plt.hist(train_minmax.tenure_scaled, bins=25, ec='black')\n",
    "plt.title('Scaled tenure')\n",
    "plt.subplot(325)\n",
    "\n",
    "plt.hist(train_minmax.total_charges, bins=25, ec='black')\n",
    "plt.title('Original total_charges')\n",
    "plt.subplot(326)\n",
    "plt.hist(train_minmax.total_charges_scaled, bins=25, ec='black')\n",
    "plt.title('Scaled total_charges')"
   ]
  },
  {
   "cell_type": "code",
   "execution_count": 13,
   "metadata": {},
   "outputs": [],
   "source": [
    "# Standard Scaler\n",
    "\n",
    "columns_to_scale = ['monthly_charges', 'tenure', 'total_charges']\n",
    "\n",
    "train_standard, validate_standard, test_standard = add_scaled_columns(train, validate, test,\n",
    "                                                                      scaler_standard,\n",
    "                                                                      columns_to_scale)"
   ]
  },
  {
   "cell_type": "code",
   "execution_count": 14,
   "metadata": {},
   "outputs": [
    {
     "data": {
      "text/plain": [
       "Text(0.5, 1.0, 'Scaled total_charges')"
      ]
     },
     "execution_count": 14,
     "metadata": {},
     "output_type": "execute_result"
    },
    {
     "data": {
      "image/png": "[encoded data removed]",
      "text/plain": [
       "<Figure size 1152x648 with 6 Axes>"
      ]
     },
     "metadata": {
      "needs_background": "light"
     },
     "output_type": "display_data"
    }
   ],
   "source": [
    "# Visualize the results of standard scaler\n",
    "\n",
    "plt.figure(figsize=(16, 9))\n",
    "plt.subplot(321)\n",
    "plt.hist(train_standard.monthly_charges, bins=25, ec='black')\n",
    "plt.title('Original monthly_charges')\n",
    "plt.subplot(322)\n",
    "plt.hist(train_standard.monthly_charges_scaled, bins=25, ec='black')\n",
    "plt.title('Scaled monthly_charges')\n",
    "\n",
    "plt.subplot(323)\n",
    "plt.hist(train_standard.tenure, bins=25, ec='black')\n",
    "plt.title('Original tenure')\n",
    "plt.subplot(324)\n",
    "plt.hist(train_standard.tenure_scaled, bins=25, ec='black')\n",
    "plt.title('Scaled tenure')\n",
    "plt.subplot(325)\n",
    "\n",
    "plt.hist(train_standard.total_charges, bins=25, ec='black')\n",
    "plt.title('Original total_charges')\n",
    "plt.subplot(326)\n",
    "plt.hist(train_standard.total_charges_scaled, bins=25, ec='black')\n",
    "plt.title('Scaled total_charges')"
   ]
  },
  {
   "cell_type": "code",
   "execution_count": 15,
   "metadata": {},
   "outputs": [],
   "source": [
    "# RobustScaler\n",
    "\n",
    "columns_to_scale = ['monthly_charges', 'tenure', 'total_charges']\n",
    "\n",
    "train_robust, validate_robust, test_robust = add_scaled_columns(train, validate, test,\n",
    "                                                                scaler_robust,\n",
    "                                                                columns_to_scale)"
   ]
  },
  {
   "cell_type": "code",
   "execution_count": 16,
   "metadata": {},
   "outputs": [
    {
     "data": {
      "text/plain": [
       "Text(0.5, 1.0, 'Scaled total_charges')"
      ]
     },
     "execution_count": 16,
     "metadata": {},
     "output_type": "execute_result"
    },
    {
     "data": {
      "image/png": "[encoded data removed]",
      "text/plain": [
       "<Figure size 1152x648 with 6 Axes>"
      ]
     },
     "metadata": {
      "needs_background": "light"
     },
     "output_type": "display_data"
    }
   ],
   "source": [
    "# Visualize the results of robust scaler\n",
    "\n",
    "plt.figure(figsize=(16, 9))\n",
    "plt.subplot(321)\n",
    "plt.hist(train_robust.monthly_charges, bins=25, ec='black')\n",
    "plt.title('Original monthly_charges')\n",
    "plt.subplot(322)\n",
    "plt.hist(train_robust.monthly_charges_scaled, bins=25, ec='black')\n",
    "plt.title('Scaled monthly_charges')\n",
    "\n",
    "plt.subplot(323)\n",
    "plt.hist(train_robust.tenure, bins=25, ec='black')\n",
    "plt.title('Original tenure')\n",
    "plt.subplot(324)\n",
    "plt.hist(train_robust.tenure_scaled, bins=25, ec='black')\n",
    "plt.title('Scaled tenure')\n",
    "plt.subplot(325)\n",
    "\n",
    "plt.hist(train_robust.total_charges, bins=25, ec='black')\n",
    "plt.title('Original total_charges')\n",
    "plt.subplot(326)\n",
    "plt.hist(train_robust.total_charges_scaled, bins=25, ec='black')\n",
    "plt.title('Scaled total_charges')"
   ]
  },
  {
   "cell_type": "code",
   "execution_count": null,
   "metadata": {},
   "outputs": [],
   "source": []
  }
 ],
 "metadata": {
  "kernelspec": {
   "display_name": "Python 3",
   "language": "python",
   "name": "python3"
  },
  "language_info": {
   "codemirror_mode": {
    "name": "ipython",
    "version": 3
   },
   "file_extension": ".py",
   "mimetype": "text/x-python",
   "name": "python",
   "nbconvert_exporter": "python",
   "pygments_lexer": "ipython3",
   "version": "3.7.6"
  }
 },
 "nbformat": 4,
 "nbformat_minor": 4
}
