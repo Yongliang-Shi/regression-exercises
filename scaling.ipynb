{
 "cells": [
  {
   "cell_type": "markdown",
   "metadata": {},
   "source": [
    "## Exercise\n",
    "### Do your work for these exercises in a jupyter notebook named `scaling`. Use the `telco` dataset. Once you are finished, you may wish to repeat the exercises on another dataset for additional practice."
   ]
  },
  {
   "cell_type": "code",
   "execution_count": 1,
   "metadata": {},
   "outputs": [],
   "source": [
    "import warnings\n",
    "warnings.filterwarnings(\"ignore\")\n",
    "import os\n",
    "\n",
    "import pandas as pd\n",
    "import numpy as np\n",
    "\n",
    "import wrangle, prepare\n",
    "\n",
    "import matplotlib.pyplot as plt\n",
    "import seaborn as sns\n",
    "\n",
    "import sklearn.preprocessing"
   ]
  },
  {
   "cell_type": "code",
   "execution_count": 2,
   "metadata": {},
   "outputs": [
    {
     "data": {
      "text/html": [
       "<div>\n",
       "<style scoped>\n",
       "    .dataframe tbody tr th:only-of-type {\n",
       "        vertical-align: middle;\n",
       "    }\n",
       "\n",
       "    .dataframe tbody tr th {\n",
       "        vertical-align: top;\n",
       "    }\n",
       "\n",
       "    .dataframe thead th {\n",
       "        text-align: right;\n",
       "    }\n",
       "</style>\n",
       "<table border=\"1\" class=\"dataframe\">\n",
       "  <thead>\n",
       "    <tr style=\"text-align: right;\">\n",
       "      <th></th>\n",
       "      <th>customer_id</th>\n",
       "      <th>monthly_charges</th>\n",
       "      <th>tenure</th>\n",
       "      <th>total_charges</th>\n",
       "    </tr>\n",
       "  </thead>\n",
       "  <tbody>\n",
       "    <tr>\n",
       "      <th>728</th>\n",
       "      <td>4573-JKNAE</td>\n",
       "      <td>19.35</td>\n",
       "      <td>12</td>\n",
       "      <td>212.30</td>\n",
       "    </tr>\n",
       "    <tr>\n",
       "      <th>366</th>\n",
       "      <td>2229-DPMBI</td>\n",
       "      <td>19.50</td>\n",
       "      <td>8</td>\n",
       "      <td>162.15</td>\n",
       "    </tr>\n",
       "    <tr>\n",
       "      <th>262</th>\n",
       "      <td>1568-LJSZU</td>\n",
       "      <td>92.20</td>\n",
       "      <td>68</td>\n",
       "      <td>6392.85</td>\n",
       "    </tr>\n",
       "    <tr>\n",
       "      <th>1629</th>\n",
       "      <td>9661-JALZV</td>\n",
       "      <td>24.70</td>\n",
       "      <td>58</td>\n",
       "      <td>1519.00</td>\n",
       "    </tr>\n",
       "    <tr>\n",
       "      <th>568</th>\n",
       "      <td>3498-LZGQZ</td>\n",
       "      <td>19.15</td>\n",
       "      <td>63</td>\n",
       "      <td>1177.05</td>\n",
       "    </tr>\n",
       "  </tbody>\n",
       "</table>\n",
       "</div>"
      ],
      "text/plain": [
       "     customer_id  monthly_charges  tenure  total_charges\n",
       "728   4573-JKNAE            19.35      12         212.30\n",
       "366   2229-DPMBI            19.50       8         162.15\n",
       "262   1568-LJSZU            92.20      68        6392.85\n",
       "1629  9661-JALZV            24.70      58        1519.00\n",
       "568   3498-LZGQZ            19.15      63        1177.05"
      ]
     },
     "execution_count": 2,
     "metadata": {},
     "output_type": "execute_result"
    }
   ],
   "source": [
    "train, validate, test = wrangle.wrangle_telco()\n",
    "train.head()"
   ]
  },
  {
   "cell_type": "markdown",
   "metadata": {},
   "source": [
    "### 1. Apply the scalers we talked about in this lesson to your data and visualize the results in a way that can."
   ]
  },
  {
   "cell_type": "code",
   "execution_count": 3,
   "metadata": {},
   "outputs": [
    {
     "data": {
      "text/plain": [
       "(MinMaxScaler(copy=True, feature_range=(0, 1)),\n",
       " StandardScaler(copy=True, with_mean=True, with_std=True),\n",
       " RobustScaler(copy=True, quantile_range=(25.0, 75.0), with_centering=True,\n",
       "              with_scaling=True))"
      ]
     },
     "execution_count": 3,
     "metadata": {},
     "output_type": "execute_result"
    }
   ],
   "source": [
    "# Create 3 linear scalers: min-max, standard, and robust\n",
    "\n",
    "scaler_minmax = sklearn.preprocessing.MinMaxScaler()\n",
    "scaler_standard = sklearn.preprocessing.StandardScaler()\n",
    "scaler_robust = sklearn.preprocessing.RobustScaler()\n",
    "\n",
    "scaler_minmax, scaler_standard, scaler_robust"
   ]
  },
  {
   "cell_type": "code",
   "execution_count": 4,
   "metadata": {},
   "outputs": [],
   "source": [
    "# Define the function that add scaled columns\n",
    "\n",
    "def add_scaled_columns(train, validate, test, scaler, columns_to_scale):\n",
    "    new_column_names = [c + '_scaled' for c in columns_to_scale]\n",
    "    scaler.fit(train[columns_to_scale])\n",
    "\n",
    "    train = pd.concat([\n",
    "        train,\n",
    "        pd.DataFrame(scaler.transform(train[columns_to_scale]), columns=new_column_names, index=train.index),\n",
    "    ], axis=1)\n",
    "    validate = pd.concat([\n",
    "        validate,\n",
    "        pd.DataFrame(scaler.transform(validate[columns_to_scale]), columns=new_column_names, index=validate.index),\n",
    "    ], axis=1)\n",
    "    test = pd.concat([\n",
    "        test,\n",
    "        pd.DataFrame(scaler.transform(test[columns_to_scale]), columns=new_column_names, index=test.index),\n",
    "    ], axis=1)\n",
    "    \n",
    "    return train, validate, test"
   ]
  },
  {
   "cell_type": "code",
   "execution_count": 5,
   "metadata": {},
   "outputs": [
    {
     "data": {
      "text/html": [
       "<div>\n",
       "<style scoped>\n",
       "    .dataframe tbody tr th:only-of-type {\n",
       "        vertical-align: middle;\n",
       "    }\n",
       "\n",
       "    .dataframe tbody tr th {\n",
       "        vertical-align: top;\n",
       "    }\n",
       "\n",
       "    .dataframe thead th {\n",
       "        text-align: right;\n",
       "    }\n",
       "</style>\n",
       "<table border=\"1\" class=\"dataframe\">\n",
       "  <thead>\n",
       "    <tr style=\"text-align: right;\">\n",
       "      <th></th>\n",
       "      <th>customer_id</th>\n",
       "      <th>monthly_charges</th>\n",
       "      <th>tenure</th>\n",
       "      <th>total_charges</th>\n",
       "    </tr>\n",
       "  </thead>\n",
       "  <tbody>\n",
       "    <tr>\n",
       "      <th>728</th>\n",
       "      <td>4573-JKNAE</td>\n",
       "      <td>19.35</td>\n",
       "      <td>12</td>\n",
       "      <td>212.30</td>\n",
       "    </tr>\n",
       "    <tr>\n",
       "      <th>366</th>\n",
       "      <td>2229-DPMBI</td>\n",
       "      <td>19.50</td>\n",
       "      <td>8</td>\n",
       "      <td>162.15</td>\n",
       "    </tr>\n",
       "    <tr>\n",
       "      <th>262</th>\n",
       "      <td>1568-LJSZU</td>\n",
       "      <td>92.20</td>\n",
       "      <td>68</td>\n",
       "      <td>6392.85</td>\n",
       "    </tr>\n",
       "    <tr>\n",
       "      <th>1629</th>\n",
       "      <td>9661-JALZV</td>\n",
       "      <td>24.70</td>\n",
       "      <td>58</td>\n",
       "      <td>1519.00</td>\n",
       "    </tr>\n",
       "    <tr>\n",
       "      <th>568</th>\n",
       "      <td>3498-LZGQZ</td>\n",
       "      <td>19.15</td>\n",
       "      <td>63</td>\n",
       "      <td>1177.05</td>\n",
       "    </tr>\n",
       "  </tbody>\n",
       "</table>\n",
       "</div>"
      ],
      "text/plain": [
       "     customer_id  monthly_charges  tenure  total_charges\n",
       "728   4573-JKNAE            19.35      12         212.30\n",
       "366   2229-DPMBI            19.50       8         162.15\n",
       "262   1568-LJSZU            92.20      68        6392.85\n",
       "1629  9661-JALZV            24.70      58        1519.00\n",
       "568   3498-LZGQZ            19.15      63        1177.05"
      ]
     },
     "execution_count": 5,
     "metadata": {},
     "output_type": "execute_result"
    }
   ],
   "source": [
    "train.head()"
   ]
  },
  {
   "cell_type": "code",
   "execution_count": 6,
   "metadata": {
    "scrolled": true
   },
   "outputs": [],
   "source": [
    "# Min-Max Scaling\n",
    "\n",
    "columns_to_scale = ['monthly_charges', 'tenure', 'total_charges']\n",
    "\n",
    "train_minmax, validate_minmax, test_minmax = add_scaled_columns(train, validate, test, \n",
    "                                                                scaler_minmax, \n",
    "                                                                columns_to_scale)"
   ]
  },
  {
   "cell_type": "code",
   "execution_count": 7,
   "metadata": {},
   "outputs": [
    {
     "data": {
      "text/html": [
       "<div>\n",
       "<style scoped>\n",
       "    .dataframe tbody tr th:only-of-type {\n",
       "        vertical-align: middle;\n",
       "    }\n",
       "\n",
       "    .dataframe tbody tr th {\n",
       "        vertical-align: top;\n",
       "    }\n",
       "\n",
       "    .dataframe thead th {\n",
       "        text-align: right;\n",
       "    }\n",
       "</style>\n",
       "<table border=\"1\" class=\"dataframe\">\n",
       "  <thead>\n",
       "    <tr style=\"text-align: right;\">\n",
       "      <th></th>\n",
       "      <th>customer_id</th>\n",
       "      <th>monthly_charges</th>\n",
       "      <th>tenure</th>\n",
       "      <th>total_charges</th>\n",
       "      <th>monthly_charges_scaled</th>\n",
       "      <th>tenure_scaled</th>\n",
       "      <th>total_charges_scaled</th>\n",
       "    </tr>\n",
       "  </thead>\n",
       "  <tbody>\n",
       "    <tr>\n",
       "      <th>728</th>\n",
       "      <td>4573-JKNAE</td>\n",
       "      <td>19.35</td>\n",
       "      <td>12</td>\n",
       "      <td>212.30</td>\n",
       "      <td>0.005503</td>\n",
       "      <td>0.154930</td>\n",
       "      <td>0.022185</td>\n",
       "    </tr>\n",
       "    <tr>\n",
       "      <th>366</th>\n",
       "      <td>2229-DPMBI</td>\n",
       "      <td>19.50</td>\n",
       "      <td>8</td>\n",
       "      <td>162.15</td>\n",
       "      <td>0.007004</td>\n",
       "      <td>0.098592</td>\n",
       "      <td>0.016389</td>\n",
       "    </tr>\n",
       "    <tr>\n",
       "      <th>262</th>\n",
       "      <td>1568-LJSZU</td>\n",
       "      <td>92.20</td>\n",
       "      <td>68</td>\n",
       "      <td>6392.85</td>\n",
       "      <td>0.734367</td>\n",
       "      <td>0.943662</td>\n",
       "      <td>0.736526</td>\n",
       "    </tr>\n",
       "    <tr>\n",
       "      <th>1629</th>\n",
       "      <td>9661-JALZV</td>\n",
       "      <td>24.70</td>\n",
       "      <td>58</td>\n",
       "      <td>1519.00</td>\n",
       "      <td>0.059030</td>\n",
       "      <td>0.802817</td>\n",
       "      <td>0.173212</td>\n",
       "    </tr>\n",
       "    <tr>\n",
       "      <th>568</th>\n",
       "      <td>3498-LZGQZ</td>\n",
       "      <td>19.15</td>\n",
       "      <td>63</td>\n",
       "      <td>1177.05</td>\n",
       "      <td>0.003502</td>\n",
       "      <td>0.873239</td>\n",
       "      <td>0.133690</td>\n",
       "    </tr>\n",
       "  </tbody>\n",
       "</table>\n",
       "</div>"
      ],
      "text/plain": [
       "     customer_id  monthly_charges  tenure  total_charges  \\\n",
       "728   4573-JKNAE            19.35      12         212.30   \n",
       "366   2229-DPMBI            19.50       8         162.15   \n",
       "262   1568-LJSZU            92.20      68        6392.85   \n",
       "1629  9661-JALZV            24.70      58        1519.00   \n",
       "568   3498-LZGQZ            19.15      63        1177.05   \n",
       "\n",
       "      monthly_charges_scaled  tenure_scaled  total_charges_scaled  \n",
       "728                 0.005503       0.154930              0.022185  \n",
       "366                 0.007004       0.098592              0.016389  \n",
       "262                 0.734367       0.943662              0.736526  \n",
       "1629                0.059030       0.802817              0.173212  \n",
       "568                 0.003502       0.873239              0.133690  "
      ]
     },
     "execution_count": 7,
     "metadata": {},
     "output_type": "execute_result"
    }
   ],
   "source": [
    "train_minmax.head()"
   ]
  },
  {
   "cell_type": "code",
   "execution_count": 12,
   "metadata": {},
   "outputs": [
    {
     "data": {
      "text/plain": [
       "Text(0.5, 1.0, 'Scaled total_charges')"
      ]
     },
     "execution_count": 12,
     "metadata": {},
     "output_type": "execute_result"
    },
    {
     "data": {
      "image/png": "[encoded data removed]",
      "text/plain": [
       "<Figure size 1152x648 with 6 Axes>"
      ]
     },
     "metadata": {
      "needs_background": "light"
     },
     "output_type": "display_data"
    }
   ],
   "source": [
    "# Visualize the results of min-max scaling\n",
    "\n",
    "plt.figure(figsize=(16, 9))\n",
    "plt.subplot(321)\n",
    "plt.hist(train_minmax.monthly_charges, bins=25, ec='black')\n",
    "plt.title('Original monthly_charges')\n",
    "plt.subplot(322)\n",
    "plt.hist(train_minmax.monthly_charges_scaled, bins=25, ec='black')\n",
    "plt.title('Scaled monthly_charges')\n",
    "\n",
    "plt.subplot(323)\n",
    "plt.hist(train_minmax.tenure, bins=25, ec='black')\n",
    "plt.title('Original tenure')\n",
    "plt.subplot(324)\n",
    "plt.hist(train_minmax.tenure_scaled, bins=25, ec='black')\n",
    "plt.title('Scaled tenure')\n",
    "plt.subplot(325)\n",
    "\n",
    "plt.hist(train_minmax.total_charges, bins=25, ec='black')\n",
    "plt.title('Original total_charges')\n",
    "plt.subplot(326)\n",
    "plt.hist(train_minmax.total_charges_scaled, bins=25, ec='black')\n",
    "plt.title('Scaled total_charges')"
   ]
  },
  {
   "cell_type": "code",
   "execution_count": 13,
   "metadata": {},
   "outputs": [],
   "source": [
    "# Standard Scaler\n",
    "\n",
    "columns_to_scale = ['monthly_charges', 'tenure', 'total_charges']\n",
    "\n",
    "train_standard, validate_standard, test_standard = add_scaled_columns(train, validate, test,\n",
    "                                                                      scaler_standard,\n",
    "                                                                      columns_to_scale)"
   ]
  },
  {
   "cell_type": "code",
   "execution_count": 17,
   "metadata": {},
   "outputs": [
    {
     "data": {
      "text/html": [
       "<div>\n",
       "<style scoped>\n",
       "    .dataframe tbody tr th:only-of-type {\n",
       "        vertical-align: middle;\n",
       "    }\n",
       "\n",
       "    .dataframe tbody tr th {\n",
       "        vertical-align: top;\n",
       "    }\n",
       "\n",
       "    .dataframe thead th {\n",
       "        text-align: right;\n",
       "    }\n",
       "</style>\n",
       "<table border=\"1\" class=\"dataframe\">\n",
       "  <thead>\n",
       "    <tr style=\"text-align: right;\">\n",
       "      <th></th>\n",
       "      <th>customer_id</th>\n",
       "      <th>monthly_charges</th>\n",
       "      <th>tenure</th>\n",
       "      <th>total_charges</th>\n",
       "      <th>monthly_charges_scaled</th>\n",
       "      <th>tenure_scaled</th>\n",
       "      <th>total_charges_scaled</th>\n",
       "    </tr>\n",
       "  </thead>\n",
       "  <tbody>\n",
       "    <tr>\n",
       "      <th>728</th>\n",
       "      <td>4573-JKNAE</td>\n",
       "      <td>19.35</td>\n",
       "      <td>12</td>\n",
       "      <td>212.30</td>\n",
       "      <td>-1.172745</td>\n",
       "      <td>-2.499711</td>\n",
       "      <td>-1.345114</td>\n",
       "    </tr>\n",
       "    <tr>\n",
       "      <th>366</th>\n",
       "      <td>2229-DPMBI</td>\n",
       "      <td>19.50</td>\n",
       "      <td>8</td>\n",
       "      <td>162.15</td>\n",
       "      <td>-1.168401</td>\n",
       "      <td>-2.722390</td>\n",
       "      <td>-1.364672</td>\n",
       "    </tr>\n",
       "    <tr>\n",
       "      <th>262</th>\n",
       "      <td>1568-LJSZU</td>\n",
       "      <td>92.20</td>\n",
       "      <td>68</td>\n",
       "      <td>6392.85</td>\n",
       "      <td>0.937094</td>\n",
       "      <td>0.617786</td>\n",
       "      <td>1.065275</td>\n",
       "    </tr>\n",
       "    <tr>\n",
       "      <th>1629</th>\n",
       "      <td>9661-JALZV</td>\n",
       "      <td>24.70</td>\n",
       "      <td>58</td>\n",
       "      <td>1519.00</td>\n",
       "      <td>-1.017801</td>\n",
       "      <td>0.061090</td>\n",
       "      <td>-0.835507</td>\n",
       "    </tr>\n",
       "    <tr>\n",
       "      <th>568</th>\n",
       "      <td>3498-LZGQZ</td>\n",
       "      <td>19.15</td>\n",
       "      <td>63</td>\n",
       "      <td>1177.05</td>\n",
       "      <td>-1.178537</td>\n",
       "      <td>0.339438</td>\n",
       "      <td>-0.968866</td>\n",
       "    </tr>\n",
       "  </tbody>\n",
       "</table>\n",
       "</div>"
      ],
      "text/plain": [
       "     customer_id  monthly_charges  tenure  total_charges  \\\n",
       "728   4573-JKNAE            19.35      12         212.30   \n",
       "366   2229-DPMBI            19.50       8         162.15   \n",
       "262   1568-LJSZU            92.20      68        6392.85   \n",
       "1629  9661-JALZV            24.70      58        1519.00   \n",
       "568   3498-LZGQZ            19.15      63        1177.05   \n",
       "\n",
       "      monthly_charges_scaled  tenure_scaled  total_charges_scaled  \n",
       "728                -1.172745      -2.499711             -1.345114  \n",
       "366                -1.168401      -2.722390             -1.364672  \n",
       "262                 0.937094       0.617786              1.065275  \n",
       "1629               -1.017801       0.061090             -0.835507  \n",
       "568                -1.178537       0.339438             -0.968866  "
      ]
     },
     "execution_count": 17,
     "metadata": {},
     "output_type": "execute_result"
    }
   ],
   "source": [
    "train_standard.head()"
   ]
  },
  {
   "cell_type": "code",
   "execution_count": 14,
   "metadata": {},
   "outputs": [
    {
     "data": {
      "text/plain": [
       "Text(0.5, 1.0, 'Scaled total_charges')"
      ]
     },
     "execution_count": 14,
     "metadata": {},
     "output_type": "execute_result"
    },
    {
     "data": {
      "image/png": "[encoded data removed]",
      "text/plain": [
       "<Figure size 1152x648 with 6 Axes>"
      ]
     },
     "metadata": {
      "needs_background": "light"
     },
     "output_type": "display_data"
    }
   ],
   "source": [
    "# Visualize the results of standard scaler\n",
    "\n",
    "plt.figure(figsize=(16, 9))\n",
    "plt.subplot(321)\n",
    "plt.hist(train_standard.monthly_charges, bins=25, ec='black')\n",
    "plt.title('Original monthly_charges')\n",
    "plt.subplot(322)\n",
    "plt.hist(train_standard.monthly_charges_scaled, bins=25, ec='black')\n",
    "plt.title('Scaled monthly_charges')\n",
    "\n",
    "plt.subplot(323)\n",
    "plt.hist(train_standard.tenure, bins=25, ec='black')\n",
    "plt.title('Original tenure')\n",
    "plt.subplot(324)\n",
    "plt.hist(train_standard.tenure_scaled, bins=25, ec='black')\n",
    "plt.title('Scaled tenure')\n",
    "plt.subplot(325)\n",
    "\n",
    "plt.hist(train_standard.total_charges, bins=25, ec='black')\n",
    "plt.title('Original total_charges')\n",
    "plt.subplot(326)\n",
    "plt.hist(train_standard.total_charges_scaled, bins=25, ec='black')\n",
    "plt.title('Scaled total_charges')"
   ]
  },
  {
   "cell_type": "code",
   "execution_count": 15,
   "metadata": {},
   "outputs": [],
   "source": [
    "# RobustScaler\n",
    "\n",
    "columns_to_scale = ['monthly_charges', 'tenure', 'total_charges']\n",
    "\n",
    "train_robust, validate_robust, test_robust = add_scaled_columns(train, validate, test,\n",
    "                                                                scaler_robust,\n",
    "                                                                columns_to_scale)"
   ]
  },
  {
   "cell_type": "code",
   "execution_count": 18,
   "metadata": {},
   "outputs": [
    {
     "data": {
      "text/html": [
       "<div>\n",
       "<style scoped>\n",
       "    .dataframe tbody tr th:only-of-type {\n",
       "        vertical-align: middle;\n",
       "    }\n",
       "\n",
       "    .dataframe tbody tr th {\n",
       "        vertical-align: top;\n",
       "    }\n",
       "\n",
       "    .dataframe thead th {\n",
       "        text-align: right;\n",
       "    }\n",
       "</style>\n",
       "<table border=\"1\" class=\"dataframe\">\n",
       "  <thead>\n",
       "    <tr style=\"text-align: right;\">\n",
       "      <th></th>\n",
       "      <th>customer_id</th>\n",
       "      <th>monthly_charges</th>\n",
       "      <th>tenure</th>\n",
       "      <th>total_charges</th>\n",
       "      <th>monthly_charges_scaled</th>\n",
       "      <th>tenure_scaled</th>\n",
       "      <th>total_charges_scaled</th>\n",
       "    </tr>\n",
       "  </thead>\n",
       "  <tbody>\n",
       "    <tr>\n",
       "      <th>728</th>\n",
       "      <td>4573-JKNAE</td>\n",
       "      <td>19.35</td>\n",
       "      <td>12</td>\n",
       "      <td>212.30</td>\n",
       "      <td>-0.635472</td>\n",
       "      <td>-2.260870</td>\n",
       "      <td>-0.703641</td>\n",
       "    </tr>\n",
       "    <tr>\n",
       "      <th>366</th>\n",
       "      <td>2229-DPMBI</td>\n",
       "      <td>19.50</td>\n",
       "      <td>8</td>\n",
       "      <td>162.15</td>\n",
       "      <td>-0.633208</td>\n",
       "      <td>-2.434783</td>\n",
       "      <td>-0.714316</td>\n",
       "    </tr>\n",
       "    <tr>\n",
       "      <th>262</th>\n",
       "      <td>1568-LJSZU</td>\n",
       "      <td>92.20</td>\n",
       "      <td>68</td>\n",
       "      <td>6392.85</td>\n",
       "      <td>0.464151</td>\n",
       "      <td>0.173913</td>\n",
       "      <td>0.611971</td>\n",
       "    </tr>\n",
       "    <tr>\n",
       "      <th>1629</th>\n",
       "      <td>9661-JALZV</td>\n",
       "      <td>24.70</td>\n",
       "      <td>58</td>\n",
       "      <td>1519.00</td>\n",
       "      <td>-0.554717</td>\n",
       "      <td>-0.260870</td>\n",
       "      <td>-0.425493</td>\n",
       "    </tr>\n",
       "    <tr>\n",
       "      <th>568</th>\n",
       "      <td>3498-LZGQZ</td>\n",
       "      <td>19.15</td>\n",
       "      <td>63</td>\n",
       "      <td>1177.05</td>\n",
       "      <td>-0.638491</td>\n",
       "      <td>-0.043478</td>\n",
       "      <td>-0.498281</td>\n",
       "    </tr>\n",
       "  </tbody>\n",
       "</table>\n",
       "</div>"
      ],
      "text/plain": [
       "     customer_id  monthly_charges  tenure  total_charges  \\\n",
       "728   4573-JKNAE            19.35      12         212.30   \n",
       "366   2229-DPMBI            19.50       8         162.15   \n",
       "262   1568-LJSZU            92.20      68        6392.85   \n",
       "1629  9661-JALZV            24.70      58        1519.00   \n",
       "568   3498-LZGQZ            19.15      63        1177.05   \n",
       "\n",
       "      monthly_charges_scaled  tenure_scaled  total_charges_scaled  \n",
       "728                -0.635472      -2.260870             -0.703641  \n",
       "366                -0.633208      -2.434783             -0.714316  \n",
       "262                 0.464151       0.173913              0.611971  \n",
       "1629               -0.554717      -0.260870             -0.425493  \n",
       "568                -0.638491      -0.043478             -0.498281  "
      ]
     },
     "execution_count": 18,
     "metadata": {},
     "output_type": "execute_result"
    }
   ],
   "source": [
    "train_robust.head()"
   ]
  },
  {
   "cell_type": "code",
   "execution_count": 16,
   "metadata": {},
   "outputs": [
    {
     "data": {
      "text/plain": [
       "Text(0.5, 1.0, 'Scaled total_charges')"
      ]
     },
     "execution_count": 16,
     "metadata": {},
     "output_type": "execute_result"
    },
    {
     "data": {
      "image/png": "[encoded data removed]",
      "text/plain": [
       "<Figure size 1152x648 with 6 Axes>"
      ]
     },
     "metadata": {
      "needs_background": "light"
     },
     "output_type": "display_data"
    }
   ],
   "source": [
    "# Visualize the results of robust scaler\n",
    "\n",
    "plt.figure(figsize=(16, 9))\n",
    "plt.subplot(321)\n",
    "plt.hist(train_robust.monthly_charges, bins=25, ec='black')\n",
    "plt.title('Original monthly_charges')\n",
    "plt.subplot(322)\n",
    "plt.hist(train_robust.monthly_charges_scaled, bins=25, ec='black')\n",
    "plt.title('Scaled monthly_charges')\n",
    "\n",
    "plt.subplot(323)\n",
    "plt.hist(train_robust.tenure, bins=25, ec='black')\n",
    "plt.title('Original tenure')\n",
    "plt.subplot(324)\n",
    "plt.hist(train_robust.tenure_scaled, bins=25, ec='black')\n",
    "plt.title('Scaled tenure')\n",
    "plt.subplot(325)\n",
    "\n",
    "plt.hist(train_robust.total_charges, bins=25, ec='black')\n",
    "plt.title('Original total_charges')\n",
    "plt.subplot(326)\n",
    "plt.hist(train_robust.total_charges_scaled, bins=25, ec='black')\n",
    "plt.title('Scaled total_charges')"
   ]
  },
  {
   "cell_type": "markdown",
   "metadata": {},
   "source": [
    "### 2. Apply the .inverse_transform method to your scaled data. Is the resulting dataset the exact same as the original data?"
   ]
  },
  {
   "cell_type": "code",
   "execution_count": 20,
   "metadata": {},
   "outputs": [
    {
     "data": {
      "text/plain": [
       "Index(['customer_id', 'monthly_charges', 'tenure', 'total_charges',\n",
       "       'monthly_charges_scaled', 'tenure_scaled', 'total_charges_scaled'],\n",
       "      dtype='object')"
      ]
     },
     "execution_count": 20,
     "metadata": {},
     "output_type": "execute_result"
    }
   ],
   "source": [
    "train_minmax.col"
   ]
  },
  {
   "cell_type": "code",
   "execution_count": 40,
   "metadata": {},
   "outputs": [],
   "source": [
    "# Modify function 'add_scaled_columns' to 'add_inversed_columns'\n",
    "\n",
    "def add_inversed_columns(train, validate, test, scaler, columns_to_inverse):\n",
    "    new_column_names = [c + '_inversed' for c in columns_to_inverse]\n",
    "    \n",
    "    train = pd.concat([\n",
    "        train,\n",
    "        pd.DataFrame(scaler.inverse_transform(train[columns_to_inverse]), columns=new_column_names, index=train.index),\n",
    "    ], axis=1)\n",
    "    validate = pd.concat([\n",
    "        validate,\n",
    "        pd.DataFrame(scaler.inverse_transform(validate[columns_to_inverse]), columns=new_column_names, index=validate.index),\n",
    "    ], axis=1)\n",
    "    test = pd.concat([\n",
    "        test,\n",
    "        pd.DataFrame(scaler.inverse_transform(test[columns_to_inverse]), columns=new_column_names, index=test.index),\n",
    "    ], axis=1)\n",
    "    \n",
    "    return train, validate, test"
   ]
  },
  {
   "cell_type": "code",
   "execution_count": 41,
   "metadata": {
    "scrolled": true
   },
   "outputs": [],
   "source": [
    "# Reverse the MinMax columns\n",
    "\n",
    "cols_to_inverse = ['monthly_charges_scaled', 'tenure_scaled', 'total_charges_scaled']\n",
    "\n",
    "train_minmax_inv, validate_minmax_inv, test_minmax_inv = add_inversed_columns(train_minmax, \n",
    "                                                                              validate_minmax, \n",
    "                                                                              test_minmax, \n",
    "                                                                              scaler_minmax, \n",
    "                                                                              cols_to_inverse)"
   ]
  },
  {
   "cell_type": "code",
   "execution_count": 42,
   "metadata": {},
   "outputs": [
    {
     "data": {
      "text/html": [
       "<div>\n",
       "<style scoped>\n",
       "    .dataframe tbody tr th:only-of-type {\n",
       "        vertical-align: middle;\n",
       "    }\n",
       "\n",
       "    .dataframe tbody tr th {\n",
       "        vertical-align: top;\n",
       "    }\n",
       "\n",
       "    .dataframe thead th {\n",
       "        text-align: right;\n",
       "    }\n",
       "</style>\n",
       "<table border=\"1\" class=\"dataframe\">\n",
       "  <thead>\n",
       "    <tr style=\"text-align: right;\">\n",
       "      <th></th>\n",
       "      <th>customer_id</th>\n",
       "      <th>monthly_charges</th>\n",
       "      <th>tenure</th>\n",
       "      <th>total_charges</th>\n",
       "      <th>monthly_charges_scaled</th>\n",
       "      <th>tenure_scaled</th>\n",
       "      <th>total_charges_scaled</th>\n",
       "      <th>monthly_charges_scaled_inversed</th>\n",
       "      <th>tenure_scaled_inversed</th>\n",
       "      <th>total_charges_scaled_inversed</th>\n",
       "    </tr>\n",
       "  </thead>\n",
       "  <tbody>\n",
       "    <tr>\n",
       "      <th>728</th>\n",
       "      <td>4573-JKNAE</td>\n",
       "      <td>19.35</td>\n",
       "      <td>12</td>\n",
       "      <td>212.30</td>\n",
       "      <td>0.005503</td>\n",
       "      <td>0.154930</td>\n",
       "      <td>0.022185</td>\n",
       "      <td>19.35</td>\n",
       "      <td>12.0</td>\n",
       "      <td>212.30</td>\n",
       "    </tr>\n",
       "    <tr>\n",
       "      <th>366</th>\n",
       "      <td>2229-DPMBI</td>\n",
       "      <td>19.50</td>\n",
       "      <td>8</td>\n",
       "      <td>162.15</td>\n",
       "      <td>0.007004</td>\n",
       "      <td>0.098592</td>\n",
       "      <td>0.016389</td>\n",
       "      <td>19.50</td>\n",
       "      <td>8.0</td>\n",
       "      <td>162.15</td>\n",
       "    </tr>\n",
       "    <tr>\n",
       "      <th>262</th>\n",
       "      <td>1568-LJSZU</td>\n",
       "      <td>92.20</td>\n",
       "      <td>68</td>\n",
       "      <td>6392.85</td>\n",
       "      <td>0.734367</td>\n",
       "      <td>0.943662</td>\n",
       "      <td>0.736526</td>\n",
       "      <td>92.20</td>\n",
       "      <td>68.0</td>\n",
       "      <td>6392.85</td>\n",
       "    </tr>\n",
       "    <tr>\n",
       "      <th>1629</th>\n",
       "      <td>9661-JALZV</td>\n",
       "      <td>24.70</td>\n",
       "      <td>58</td>\n",
       "      <td>1519.00</td>\n",
       "      <td>0.059030</td>\n",
       "      <td>0.802817</td>\n",
       "      <td>0.173212</td>\n",
       "      <td>24.70</td>\n",
       "      <td>58.0</td>\n",
       "      <td>1519.00</td>\n",
       "    </tr>\n",
       "    <tr>\n",
       "      <th>568</th>\n",
       "      <td>3498-LZGQZ</td>\n",
       "      <td>19.15</td>\n",
       "      <td>63</td>\n",
       "      <td>1177.05</td>\n",
       "      <td>0.003502</td>\n",
       "      <td>0.873239</td>\n",
       "      <td>0.133690</td>\n",
       "      <td>19.15</td>\n",
       "      <td>63.0</td>\n",
       "      <td>1177.05</td>\n",
       "    </tr>\n",
       "  </tbody>\n",
       "</table>\n",
       "</div>"
      ],
      "text/plain": [
       "     customer_id  monthly_charges  tenure  total_charges  \\\n",
       "728   4573-JKNAE            19.35      12         212.30   \n",
       "366   2229-DPMBI            19.50       8         162.15   \n",
       "262   1568-LJSZU            92.20      68        6392.85   \n",
       "1629  9661-JALZV            24.70      58        1519.00   \n",
       "568   3498-LZGQZ            19.15      63        1177.05   \n",
       "\n",
       "      monthly_charges_scaled  tenure_scaled  total_charges_scaled  \\\n",
       "728                 0.005503       0.154930              0.022185   \n",
       "366                 0.007004       0.098592              0.016389   \n",
       "262                 0.734367       0.943662              0.736526   \n",
       "1629                0.059030       0.802817              0.173212   \n",
       "568                 0.003502       0.873239              0.133690   \n",
       "\n",
       "      monthly_charges_scaled_inversed  tenure_scaled_inversed  \\\n",
       "728                             19.35                    12.0   \n",
       "366                             19.50                     8.0   \n",
       "262                             92.20                    68.0   \n",
       "1629                            24.70                    58.0   \n",
       "568                             19.15                    63.0   \n",
       "\n",
       "      total_charges_scaled_inversed  \n",
       "728                          212.30  \n",
       "366                          162.15  \n",
       "262                         6392.85  \n",
       "1629                        1519.00  \n",
       "568                         1177.05  "
      ]
     },
     "execution_count": 42,
     "metadata": {},
     "output_type": "execute_result"
    }
   ],
   "source": [
    "train_minmax_inv.head()"
   ]
  },
  {
   "cell_type": "code",
   "execution_count": 43,
   "metadata": {},
   "outputs": [
    {
     "data": {
      "text/plain": [
       "customer_id                         object\n",
       "monthly_charges                    float64\n",
       "tenure                               int64\n",
       "total_charges                      float64\n",
       "monthly_charges_scaled             float64\n",
       "tenure_scaled                      float64\n",
       "total_charges_scaled               float64\n",
       "monthly_charges_scaled_inversed    float64\n",
       "tenure_scaled_inversed             float64\n",
       "total_charges_scaled_inversed      float64\n",
       "dtype: object"
      ]
     },
     "execution_count": 43,
     "metadata": {},
     "output_type": "execute_result"
    }
   ],
   "source": [
    "# Data type of the inversed scaled data\n",
    "\n",
    "train_minmax_inv.dtypes"
   ]
  },
  {
   "cell_type": "code",
   "execution_count": 49,
   "metadata": {},
   "outputs": [
    {
     "data": {
      "text/plain": [
       "728     False\n",
       "366     False\n",
       "262     False\n",
       "1629    False\n",
       "568     False\n",
       "        ...  \n",
       "450      True\n",
       "43       True\n",
       "1364    False\n",
       "442     False\n",
       "147     False\n",
       "Length: 1181, dtype: bool"
      ]
     },
     "execution_count": 49,
     "metadata": {},
     "output_type": "execute_result"
    }
   ],
   "source": [
    "# Compare mothly_charges to mothly_charges_scaled_inversed\n",
    "\n",
    "train_minmax_inv['monthly_charges'] != train_minmax_inv['monthly_charges_scaled_inversed']"
   ]
  },
  {
   "cell_type": "code",
   "execution_count": 50,
   "metadata": {},
   "outputs": [
    {
     "data": {
      "text/html": [
       "<div>\n",
       "<style scoped>\n",
       "    .dataframe tbody tr th:only-of-type {\n",
       "        vertical-align: middle;\n",
       "    }\n",
       "\n",
       "    .dataframe tbody tr th {\n",
       "        vertical-align: top;\n",
       "    }\n",
       "\n",
       "    .dataframe thead th {\n",
       "        text-align: right;\n",
       "    }\n",
       "</style>\n",
       "<table border=\"1\" class=\"dataframe\">\n",
       "  <thead>\n",
       "    <tr style=\"text-align: right;\">\n",
       "      <th></th>\n",
       "      <th>customer_id</th>\n",
       "      <th>monthly_charges</th>\n",
       "      <th>tenure</th>\n",
       "      <th>total_charges</th>\n",
       "      <th>monthly_charges_scaled</th>\n",
       "      <th>tenure_scaled</th>\n",
       "      <th>total_charges_scaled</th>\n",
       "      <th>monthly_charges_scaled_inversed</th>\n",
       "      <th>tenure_scaled_inversed</th>\n",
       "      <th>total_charges_scaled_inversed</th>\n",
       "    </tr>\n",
       "  </thead>\n",
       "  <tbody>\n",
       "    <tr>\n",
       "      <th>136</th>\n",
       "      <td>0795-XCCTE</td>\n",
       "      <td>25.40</td>\n",
       "      <td>72</td>\n",
       "      <td>1809.35</td>\n",
       "      <td>0.066033</td>\n",
       "      <td>1.000000</td>\n",
       "      <td>0.206771</td>\n",
       "      <td>25.40</td>\n",
       "      <td>72.0</td>\n",
       "      <td>1809.35</td>\n",
       "    </tr>\n",
       "    <tr>\n",
       "      <th>250</th>\n",
       "      <td>1488-PBLJN</td>\n",
       "      <td>116.85</td>\n",
       "      <td>72</td>\n",
       "      <td>8477.70</td>\n",
       "      <td>0.980990</td>\n",
       "      <td>1.000000</td>\n",
       "      <td>0.977491</td>\n",
       "      <td>116.85</td>\n",
       "      <td>72.0</td>\n",
       "      <td>8477.70</td>\n",
       "    </tr>\n",
       "    <tr>\n",
       "      <th>1664</th>\n",
       "      <td>9885-MFVSU</td>\n",
       "      <td>46.35</td>\n",
       "      <td>35</td>\n",
       "      <td>1662.05</td>\n",
       "      <td>0.275638</td>\n",
       "      <td>0.478873</td>\n",
       "      <td>0.189746</td>\n",
       "      <td>46.35</td>\n",
       "      <td>35.0</td>\n",
       "      <td>1662.05</td>\n",
       "    </tr>\n",
       "    <tr>\n",
       "      <th>1273</th>\n",
       "      <td>7605-BDWDC</td>\n",
       "      <td>49.85</td>\n",
       "      <td>31</td>\n",
       "      <td>1520.10</td>\n",
       "      <td>0.310655</td>\n",
       "      <td>0.422535</td>\n",
       "      <td>0.173339</td>\n",
       "      <td>49.85</td>\n",
       "      <td>31.0</td>\n",
       "      <td>1520.10</td>\n",
       "    </tr>\n",
       "    <tr>\n",
       "      <th>692</th>\n",
       "      <td>4213-HKBJO</td>\n",
       "      <td>25.70</td>\n",
       "      <td>33</td>\n",
       "      <td>826.10</td>\n",
       "      <td>0.069035</td>\n",
       "      <td>0.450704</td>\n",
       "      <td>0.093128</td>\n",
       "      <td>25.70</td>\n",
       "      <td>33.0</td>\n",
       "      <td>826.10</td>\n",
       "    </tr>\n",
       "    <tr>\n",
       "      <th>...</th>\n",
       "      <td>...</td>\n",
       "      <td>...</td>\n",
       "      <td>...</td>\n",
       "      <td>...</td>\n",
       "      <td>...</td>\n",
       "      <td>...</td>\n",
       "      <td>...</td>\n",
       "      <td>...</td>\n",
       "      <td>...</td>\n",
       "      <td>...</td>\n",
       "    </tr>\n",
       "    <tr>\n",
       "      <th>178</th>\n",
       "      <td>1080-BWSYE</td>\n",
       "      <td>25.65</td>\n",
       "      <td>64</td>\n",
       "      <td>1740.80</td>\n",
       "      <td>0.068534</td>\n",
       "      <td>0.887324</td>\n",
       "      <td>0.198848</td>\n",
       "      <td>25.65</td>\n",
       "      <td>64.0</td>\n",
       "      <td>1740.80</td>\n",
       "    </tr>\n",
       "    <tr>\n",
       "      <th>1335</th>\n",
       "      <td>7996-BPXHY</td>\n",
       "      <td>25.00</td>\n",
       "      <td>13</td>\n",
       "      <td>332.50</td>\n",
       "      <td>0.062031</td>\n",
       "      <td>0.169014</td>\n",
       "      <td>0.036078</td>\n",
       "      <td>25.00</td>\n",
       "      <td>13.0</td>\n",
       "      <td>332.50</td>\n",
       "    </tr>\n",
       "    <tr>\n",
       "      <th>1458</th>\n",
       "      <td>8659-IOOPU</td>\n",
       "      <td>100.45</td>\n",
       "      <td>71</td>\n",
       "      <td>7159.70</td>\n",
       "      <td>0.816908</td>\n",
       "      <td>0.985915</td>\n",
       "      <td>0.825158</td>\n",
       "      <td>100.45</td>\n",
       "      <td>71.0</td>\n",
       "      <td>7159.70</td>\n",
       "    </tr>\n",
       "    <tr>\n",
       "      <th>450</th>\n",
       "      <td>2773-OVBPK</td>\n",
       "      <td>111.30</td>\n",
       "      <td>67</td>\n",
       "      <td>7567.20</td>\n",
       "      <td>0.925463</td>\n",
       "      <td>0.929577</td>\n",
       "      <td>0.872256</td>\n",
       "      <td>111.30</td>\n",
       "      <td>67.0</td>\n",
       "      <td>7567.20</td>\n",
       "    </tr>\n",
       "    <tr>\n",
       "      <th>43</th>\n",
       "      <td>0301-FIDRB</td>\n",
       "      <td>63.80</td>\n",
       "      <td>72</td>\n",
       "      <td>4684.30</td>\n",
       "      <td>0.450225</td>\n",
       "      <td>1.000000</td>\n",
       "      <td>0.539054</td>\n",
       "      <td>63.80</td>\n",
       "      <td>72.0</td>\n",
       "      <td>4684.30</td>\n",
       "    </tr>\n",
       "  </tbody>\n",
       "</table>\n",
       "<p>146 rows × 10 columns</p>\n",
       "</div>"
      ],
      "text/plain": [
       "     customer_id  monthly_charges  tenure  total_charges  \\\n",
       "136   0795-XCCTE            25.40      72        1809.35   \n",
       "250   1488-PBLJN           116.85      72        8477.70   \n",
       "1664  9885-MFVSU            46.35      35        1662.05   \n",
       "1273  7605-BDWDC            49.85      31        1520.10   \n",
       "692   4213-HKBJO            25.70      33         826.10   \n",
       "...          ...              ...     ...            ...   \n",
       "178   1080-BWSYE            25.65      64        1740.80   \n",
       "1335  7996-BPXHY            25.00      13         332.50   \n",
       "1458  8659-IOOPU           100.45      71        7159.70   \n",
       "450   2773-OVBPK           111.30      67        7567.20   \n",
       "43    0301-FIDRB            63.80      72        4684.30   \n",
       "\n",
       "      monthly_charges_scaled  tenure_scaled  total_charges_scaled  \\\n",
       "136                 0.066033       1.000000              0.206771   \n",
       "250                 0.980990       1.000000              0.977491   \n",
       "1664                0.275638       0.478873              0.189746   \n",
       "1273                0.310655       0.422535              0.173339   \n",
       "692                 0.069035       0.450704              0.093128   \n",
       "...                      ...            ...                   ...   \n",
       "178                 0.068534       0.887324              0.198848   \n",
       "1335                0.062031       0.169014              0.036078   \n",
       "1458                0.816908       0.985915              0.825158   \n",
       "450                 0.925463       0.929577              0.872256   \n",
       "43                  0.450225       1.000000              0.539054   \n",
       "\n",
       "      monthly_charges_scaled_inversed  tenure_scaled_inversed  \\\n",
       "136                             25.40                    72.0   \n",
       "250                            116.85                    72.0   \n",
       "1664                            46.35                    35.0   \n",
       "1273                            49.85                    31.0   \n",
       "692                             25.70                    33.0   \n",
       "...                               ...                     ...   \n",
       "178                             25.65                    64.0   \n",
       "1335                            25.00                    13.0   \n",
       "1458                           100.45                    71.0   \n",
       "450                            111.30                    67.0   \n",
       "43                              63.80                    72.0   \n",
       "\n",
       "      total_charges_scaled_inversed  \n",
       "136                         1809.35  \n",
       "250                         8477.70  \n",
       "1664                        1662.05  \n",
       "1273                        1520.10  \n",
       "692                          826.10  \n",
       "...                             ...  \n",
       "178                         1740.80  \n",
       "1335                         332.50  \n",
       "1458                        7159.70  \n",
       "450                         7567.20  \n",
       "43                          4684.30  \n",
       "\n",
       "[146 rows x 10 columns]"
      ]
     },
     "execution_count": 50,
     "metadata": {},
     "output_type": "execute_result"
    }
   ],
   "source": [
    "boolean = train_minmax_inv['monthly_charges'] != train_minmax_inv['monthly_charges_scaled_inversed']\n",
    "train_minmax_inv[boolean]"
   ]
  },
  {
   "cell_type": "code",
   "execution_count": 61,
   "metadata": {},
   "outputs": [
    {
     "data": {
      "text/plain": [
       "<matplotlib.legend.Legend at 0x7f9803169e10>"
      ]
     },
     "execution_count": 61,
     "metadata": {},
     "output_type": "execute_result"
    },
    {
     "data": {
      "image/png": "[encoded data removed]",
      "text/plain": [
       "<Figure size 432x288 with 1 Axes>"
      ]
     },
     "metadata": {
      "needs_background": "light"
     },
     "output_type": "display_data"
    }
   ],
   "source": [
    "# Compare the original data and the inversed scaled data\n",
    "\n",
    "plt.hist(train_minmax_inv.monthly_charges, bins=25, ec='black', alpha=0.5, label='Original mothly_charges')\n",
    "plt.hist(train_minmax_inv.monthly_charges_scaled_inversed, bins=25, ec='black', alpha = 0.5,\n",
    "         label='inverse of scaled mothly_charges')\n",
    "plt.legend()"
   ]
  },
  {
   "cell_type": "code",
   "execution_count": 62,
   "metadata": {},
   "outputs": [
    {
     "data": {
      "text/plain": [
       "<matplotlib.legend.Legend at 0x7f98032dad50>"
      ]
     },
     "execution_count": 62,
     "metadata": {},
     "output_type": "execute_result"
    },
    {
     "data": {
      "image/png": "[encoded data removed]",
      "text/plain": [
       "<Figure size 432x288 with 1 Axes>"
      ]
     },
     "metadata": {
      "needs_background": "light"
     },
     "output_type": "display_data"
    }
   ],
   "source": [
    "plt.hist(train_minmax_inv.tenure, bins=25, ec='black', alpha=0.5, label='Original tenure')\n",
    "plt.hist(train_minmax_inv.tenure_scaled_inversed, bins=25, ec='black', alpha = 0.5,\n",
    "         label='inverse of scaled tenure')\n",
    "plt.legend()"
   ]
  },
  {
   "cell_type": "code",
   "execution_count": 63,
   "metadata": {},
   "outputs": [
    {
     "data": {
      "text/plain": [
       "<matplotlib.legend.Legend at 0x7f98033ee4d0>"
      ]
     },
     "execution_count": 63,
     "metadata": {},
     "output_type": "execute_result"
    },
    {
     "data": {
      "image/png": "[encoded data removed]",
      "text/plain": [
       "<Figure size 432x288 with 1 Axes>"
      ]
     },
     "metadata": {
      "needs_background": "light"
     },
     "output_type": "display_data"
    }
   ],
   "source": [
    "plt.hist(train_minmax_inv.total_charges, bins=25, ec='black', alpha=0.5, label='Original total_charges')\n",
    "plt.hist(train_minmax_inv.total_charges_scaled_inversed, bins=25, ec='black', alpha = 0.5,\n",
    "         label='inverse of scaled total_charges')\n",
    "plt.legend()"
   ]
  },
  {
   "cell_type": "markdown",
   "metadata": {},
   "source": [
    "**Takeaways**\n",
    "1. Since the distribution are perfectly overlapped, we can conclude that the inversed scaled data is the same as the original data. "
   ]
  },
  {
   "cell_type": "code",
   "execution_count": 64,
   "metadata": {},
   "outputs": [],
   "source": [
    "# Reverse the Standard Scaler columns\n",
    "\n",
    "cols_to_inverse = ['monthly_charges_scaled', 'tenure_scaled', 'total_charges_scaled']\n",
    "\n",
    "train_standard_inv, validate_standard_inv, test_standard_inv = add_inversed_columns(train_standard, \n",
    "                                                                                    validate_standard, \n",
    "                                                                                    test_standard, \n",
    "                                                                                    scaler_standard, \n",
    "                                                                                    cols_to_inverse)"
   ]
  },
  {
   "cell_type": "code",
   "execution_count": 65,
   "metadata": {},
   "outputs": [
    {
     "data": {
      "text/plain": [
       "<matplotlib.legend.Legend at 0x7f9803553dd0>"
      ]
     },
     "execution_count": 65,
     "metadata": {},
     "output_type": "execute_result"
    },
    {
     "data": {
      "image/png": "[encoded data removed]",
      "text/plain": [
       "<Figure size 432x288 with 1 Axes>"
      ]
     },
     "metadata": {
      "needs_background": "light"
     },
     "output_type": "display_data"
    }
   ],
   "source": [
    "# Comparision by distribution plot\n",
    "\n",
    "plt.hist(train_standard_inv.monthly_charges, bins=25, ec='black', alpha=0.5, label='Original mothly_charges')\n",
    "plt.hist(train_standard_inv.monthly_charges_scaled_inversed, bins=25, ec='black', alpha = 0.5,\n",
    "         label='inverse of scaled mothly_charges')\n",
    "plt.legend()"
   ]
  },
  {
   "cell_type": "code",
   "execution_count": 66,
   "metadata": {},
   "outputs": [
    {
     "data": {
      "text/plain": [
       "<matplotlib.legend.Legend at 0x7f9803a14e10>"
      ]
     },
     "execution_count": 66,
     "metadata": {},
     "output_type": "execute_result"
    },
    {
     "data": {
      "image/png": "[encoded data removed]",
      "text/plain": [
       "<Figure size 432x288 with 1 Axes>"
      ]
     },
     "metadata": {
      "needs_background": "light"
     },
     "output_type": "display_data"
    }
   ],
   "source": [
    "plt.hist(train_standard_inv.tenure, bins=25, ec='black', alpha=0.5, label='Original tenure')\n",
    "plt.hist(train_standard_inv.tenure_scaled_inversed, bins=25, ec='black', alpha = 0.5,\n",
    "         label='inverse of scaled tenure')\n",
    "plt.legend()"
   ]
  },
  {
   "cell_type": "code",
   "execution_count": 67,
   "metadata": {},
   "outputs": [
    {
     "data": {
      "text/plain": [
       "<matplotlib.legend.Legend at 0x7f9803b726d0>"
      ]
     },
     "execution_count": 67,
     "metadata": {},
     "output_type": "execute_result"
    },
    {
     "data": {
      "image/png": "[encoded data removed]",
      "text/plain": [
       "<Figure size 432x288 with 1 Axes>"
      ]
     },
     "metadata": {
      "needs_background": "light"
     },
     "output_type": "display_data"
    }
   ],
   "source": [
    "plt.hist(train_standard_inv.total_charges, bins=25, ec='black', alpha=0.5, label='Original total_charges')\n",
    "plt.hist(train_standard_inv.total_charges_scaled_inversed, bins=25, ec='black', alpha = 0.5,\n",
    "         label='inverse of scaled total_charges')\n",
    "plt.legend()"
   ]
  },
  {
   "cell_type": "code",
   "execution_count": 68,
   "metadata": {},
   "outputs": [],
   "source": [
    "# Reverse the Robust Scaled Columns\n",
    "\n",
    "cols_to_inverse = ['monthly_charges_scaled', 'tenure_scaled', 'total_charges_scaled']\n",
    "\n",
    "train_robust_inv, validate_robust_inv, test_robust_inv = add_inversed_columns(train_robust, \n",
    "                                                                              validate_robust, \n",
    "                                                                              test_robust, \n",
    "                                                                              scaler_robust, \n",
    "                                                                              cols_to_inverse)"
   ]
  },
  {
   "cell_type": "code",
   "execution_count": 69,
   "metadata": {},
   "outputs": [
    {
     "data": {
      "text/plain": [
       "<matplotlib.legend.Legend at 0x7f9803ca5190>"
      ]
     },
     "execution_count": 69,
     "metadata": {},
     "output_type": "execute_result"
    },
    {
     "data": {
      "image/png": "[encoded data removed]",
      "text/plain": [
       "<Figure size 432x288 with 1 Axes>"
      ]
     },
     "metadata": {
      "needs_background": "light"
     },
     "output_type": "display_data"
    }
   ],
   "source": [
    "plt.hist(train_robust_inv.monthly_charges, bins=25, ec='black', alpha=0.5, label='Original mothly_charges')\n",
    "plt.hist(train_robust_inv.monthly_charges_scaled_inversed, bins=25, ec='black', alpha = 0.5,\n",
    "         label='inverse of scaled mothly_charges')\n",
    "plt.legend()"
   ]
  },
  {
   "cell_type": "code",
   "execution_count": 70,
   "metadata": {},
   "outputs": [
    {
     "data": {
      "text/plain": [
       "<matplotlib.legend.Legend at 0x7f9803e45f90>"
      ]
     },
     "execution_count": 70,
     "metadata": {},
     "output_type": "execute_result"
    },
    {
     "data": {
      "image/png": "[encoded data removed]",
      "text/plain": [
       "<Figure size 432x288 with 1 Axes>"
      ]
     },
     "metadata": {
      "needs_background": "light"
     },
     "output_type": "display_data"
    }
   ],
   "source": [
    "plt.hist(train_robust_inv.tenure, bins=25, ec='black', alpha=0.5, label='Original tenure')\n",
    "plt.hist(train_robust_inv.tenure_scaled_inversed, bins=25, ec='black', alpha = 0.5,\n",
    "         label='inverse of scaled tenure')\n",
    "plt.legend()"
   ]
  },
  {
   "cell_type": "code",
   "execution_count": 71,
   "metadata": {},
   "outputs": [
    {
     "data": {
      "text/plain": [
       "<matplotlib.legend.Legend at 0x7f9803fc3810>"
      ]
     },
     "execution_count": 71,
     "metadata": {},
     "output_type": "execute_result"
    },
    {
     "data": {
      "image/png": "[encoded data removed]",
      "text/plain": [
       "<Figure size 432x288 with 1 Axes>"
      ]
     },
     "metadata": {
      "needs_background": "light"
     },
     "output_type": "display_data"
    }
   ],
   "source": [
    "plt.hist(train_robust_inv.total_charges, bins=25, ec='black', alpha=0.5, label='Original total_charges')\n",
    "plt.hist(train_robust_inv.total_charges_scaled_inversed, bins=25, ec='black', alpha = 0.5,\n",
    "         label='inverse of scaled total_charges')\n",
    "plt.legend()"
   ]
  },
  {
   "cell_type": "markdown",
   "metadata": {},
   "source": [
    "### 3. Read the documentation for sklearn's QuantileTransformer. Use normal for the output_distribution and apply this scaler to your data. Visualize the result of your data scaling."
   ]
  },
  {
   "cell_type": "code",
   "execution_count": 90,
   "metadata": {},
   "outputs": [],
   "source": [
    "# Create the quantile transformer object\n",
    "\n",
    "X = columns_to_scale = ['monthly_charges', 'tenure', 'total_charges']\n",
    "\n",
    "scaled_cols = sklearn.preprocessing.quantile_transform(train[X], output_distribution='normal')"
   ]
  },
  {
   "cell_type": "code",
   "execution_count": 91,
   "metadata": {},
   "outputs": [
    {
     "data": {
      "text/html": [
       "<div>\n",
       "<style scoped>\n",
       "    .dataframe tbody tr th:only-of-type {\n",
       "        vertical-align: middle;\n",
       "    }\n",
       "\n",
       "    .dataframe tbody tr th {\n",
       "        vertical-align: top;\n",
       "    }\n",
       "\n",
       "    .dataframe thead th {\n",
       "        text-align: right;\n",
       "    }\n",
       "</style>\n",
       "<table border=\"1\" class=\"dataframe\">\n",
       "  <thead>\n",
       "    <tr style=\"text-align: right;\">\n",
       "      <th></th>\n",
       "      <th>customer_id</th>\n",
       "      <th>monthly_charges</th>\n",
       "      <th>tenure</th>\n",
       "      <th>total_charges</th>\n",
       "    </tr>\n",
       "  </thead>\n",
       "  <tbody>\n",
       "    <tr>\n",
       "      <th>728</th>\n",
       "      <td>4573-JKNAE</td>\n",
       "      <td>19.35</td>\n",
       "      <td>12</td>\n",
       "      <td>212.30</td>\n",
       "    </tr>\n",
       "    <tr>\n",
       "      <th>366</th>\n",
       "      <td>2229-DPMBI</td>\n",
       "      <td>19.50</td>\n",
       "      <td>8</td>\n",
       "      <td>162.15</td>\n",
       "    </tr>\n",
       "    <tr>\n",
       "      <th>262</th>\n",
       "      <td>1568-LJSZU</td>\n",
       "      <td>92.20</td>\n",
       "      <td>68</td>\n",
       "      <td>6392.85</td>\n",
       "    </tr>\n",
       "    <tr>\n",
       "      <th>1629</th>\n",
       "      <td>9661-JALZV</td>\n",
       "      <td>24.70</td>\n",
       "      <td>58</td>\n",
       "      <td>1519.00</td>\n",
       "    </tr>\n",
       "    <tr>\n",
       "      <th>568</th>\n",
       "      <td>3498-LZGQZ</td>\n",
       "      <td>19.15</td>\n",
       "      <td>63</td>\n",
       "      <td>1177.05</td>\n",
       "    </tr>\n",
       "  </tbody>\n",
       "</table>\n",
       "</div>"
      ],
      "text/plain": [
       "     customer_id  monthly_charges  tenure  total_charges\n",
       "728   4573-JKNAE            19.35      12         212.30\n",
       "366   2229-DPMBI            19.50       8         162.15\n",
       "262   1568-LJSZU            92.20      68        6392.85\n",
       "1629  9661-JALZV            24.70      58        1519.00\n",
       "568   3498-LZGQZ            19.15      63        1177.05"
      ]
     },
     "execution_count": 91,
     "metadata": {},
     "output_type": "execute_result"
    }
   ],
   "source": [
    "train.head()"
   ]
  },
  {
   "cell_type": "code",
   "execution_count": 92,
   "metadata": {
    "scrolled": true
   },
   "outputs": [],
   "source": [
    "scaled_cols = pd.DataFrame(scaled_cols, \n",
    "                           index=train.index, \n",
    "                           columns = ['monthly_charges_scaled', 'tenure_scaled', 'total_charges_scaled'])"
   ]
  },
  {
   "cell_type": "code",
   "execution_count": 93,
   "metadata": {},
   "outputs": [
    {
     "data": {
      "text/html": [
       "<div>\n",
       "<style scoped>\n",
       "    .dataframe tbody tr th:only-of-type {\n",
       "        vertical-align: middle;\n",
       "    }\n",
       "\n",
       "    .dataframe tbody tr th {\n",
       "        vertical-align: top;\n",
       "    }\n",
       "\n",
       "    .dataframe thead th {\n",
       "        text-align: right;\n",
       "    }\n",
       "</style>\n",
       "<table border=\"1\" class=\"dataframe\">\n",
       "  <thead>\n",
       "    <tr style=\"text-align: right;\">\n",
       "      <th></th>\n",
       "      <th>monthly_charges_scaled</th>\n",
       "      <th>tenure_scaled</th>\n",
       "      <th>total_charges_scaled</th>\n",
       "    </tr>\n",
       "  </thead>\n",
       "  <tbody>\n",
       "    <tr>\n",
       "      <th>728</th>\n",
       "      <td>-2.023292</td>\n",
       "      <td>-1.858747</td>\n",
       "      <td>-2.119857</td>\n",
       "    </tr>\n",
       "    <tr>\n",
       "      <th>366</th>\n",
       "      <td>-1.750222</td>\n",
       "      <td>-2.085356</td>\n",
       "      <td>-2.225216</td>\n",
       "    </tr>\n",
       "    <tr>\n",
       "      <th>262</th>\n",
       "      <td>0.754664</td>\n",
       "      <td>0.253606</td>\n",
       "      <td>0.851449</td>\n",
       "    </tr>\n",
       "    <tr>\n",
       "      <th>1629</th>\n",
       "      <td>-0.535083</td>\n",
       "      <td>-0.313694</td>\n",
       "      <td>-0.417175</td>\n",
       "    </tr>\n",
       "    <tr>\n",
       "      <th>568</th>\n",
       "      <td>-2.456904</td>\n",
       "      <td>-0.079120</td>\n",
       "      <td>-0.748107</td>\n",
       "    </tr>\n",
       "  </tbody>\n",
       "</table>\n",
       "</div>"
      ],
      "text/plain": [
       "      monthly_charges_scaled  tenure_scaled  total_charges_scaled\n",
       "728                -2.023292      -1.858747             -2.119857\n",
       "366                -1.750222      -2.085356             -2.225216\n",
       "262                 0.754664       0.253606              0.851449\n",
       "1629               -0.535083      -0.313694             -0.417175\n",
       "568                -2.456904      -0.079120             -0.748107"
      ]
     },
     "execution_count": 93,
     "metadata": {},
     "output_type": "execute_result"
    }
   ],
   "source": [
    "scaled_cols.head()"
   ]
  },
  {
   "cell_type": "code",
   "execution_count": 94,
   "metadata": {},
   "outputs": [],
   "source": [
    "train_quantile = pd.concat([train, scaled_cols], axis=1)"
   ]
  },
  {
   "cell_type": "code",
   "execution_count": 95,
   "metadata": {},
   "outputs": [
    {
     "data": {
      "text/html": [
       "<div>\n",
       "<style scoped>\n",
       "    .dataframe tbody tr th:only-of-type {\n",
       "        vertical-align: middle;\n",
       "    }\n",
       "\n",
       "    .dataframe tbody tr th {\n",
       "        vertical-align: top;\n",
       "    }\n",
       "\n",
       "    .dataframe thead th {\n",
       "        text-align: right;\n",
       "    }\n",
       "</style>\n",
       "<table border=\"1\" class=\"dataframe\">\n",
       "  <thead>\n",
       "    <tr style=\"text-align: right;\">\n",
       "      <th></th>\n",
       "      <th>customer_id</th>\n",
       "      <th>monthly_charges</th>\n",
       "      <th>tenure</th>\n",
       "      <th>total_charges</th>\n",
       "      <th>monthly_charges_scaled</th>\n",
       "      <th>tenure_scaled</th>\n",
       "      <th>total_charges_scaled</th>\n",
       "    </tr>\n",
       "  </thead>\n",
       "  <tbody>\n",
       "    <tr>\n",
       "      <th>728</th>\n",
       "      <td>4573-JKNAE</td>\n",
       "      <td>19.35</td>\n",
       "      <td>12</td>\n",
       "      <td>212.30</td>\n",
       "      <td>-2.023292</td>\n",
       "      <td>-1.858747</td>\n",
       "      <td>-2.119857</td>\n",
       "    </tr>\n",
       "    <tr>\n",
       "      <th>366</th>\n",
       "      <td>2229-DPMBI</td>\n",
       "      <td>19.50</td>\n",
       "      <td>8</td>\n",
       "      <td>162.15</td>\n",
       "      <td>-1.750222</td>\n",
       "      <td>-2.085356</td>\n",
       "      <td>-2.225216</td>\n",
       "    </tr>\n",
       "    <tr>\n",
       "      <th>262</th>\n",
       "      <td>1568-LJSZU</td>\n",
       "      <td>92.20</td>\n",
       "      <td>68</td>\n",
       "      <td>6392.85</td>\n",
       "      <td>0.754664</td>\n",
       "      <td>0.253606</td>\n",
       "      <td>0.851449</td>\n",
       "    </tr>\n",
       "    <tr>\n",
       "      <th>1629</th>\n",
       "      <td>9661-JALZV</td>\n",
       "      <td>24.70</td>\n",
       "      <td>58</td>\n",
       "      <td>1519.00</td>\n",
       "      <td>-0.535083</td>\n",
       "      <td>-0.313694</td>\n",
       "      <td>-0.417175</td>\n",
       "    </tr>\n",
       "    <tr>\n",
       "      <th>568</th>\n",
       "      <td>3498-LZGQZ</td>\n",
       "      <td>19.15</td>\n",
       "      <td>63</td>\n",
       "      <td>1177.05</td>\n",
       "      <td>-2.456904</td>\n",
       "      <td>-0.079120</td>\n",
       "      <td>-0.748107</td>\n",
       "    </tr>\n",
       "  </tbody>\n",
       "</table>\n",
       "</div>"
      ],
      "text/plain": [
       "     customer_id  monthly_charges  tenure  total_charges  \\\n",
       "728   4573-JKNAE            19.35      12         212.30   \n",
       "366   2229-DPMBI            19.50       8         162.15   \n",
       "262   1568-LJSZU            92.20      68        6392.85   \n",
       "1629  9661-JALZV            24.70      58        1519.00   \n",
       "568   3498-LZGQZ            19.15      63        1177.05   \n",
       "\n",
       "      monthly_charges_scaled  tenure_scaled  total_charges_scaled  \n",
       "728                -2.023292      -1.858747             -2.119857  \n",
       "366                -1.750222      -2.085356             -2.225216  \n",
       "262                 0.754664       0.253606              0.851449  \n",
       "1629               -0.535083      -0.313694             -0.417175  \n",
       "568                -2.456904      -0.079120             -0.748107  "
      ]
     },
     "execution_count": 95,
     "metadata": {},
     "output_type": "execute_result"
    }
   ],
   "source": [
    "train_quantile.head()"
   ]
  },
  {
   "cell_type": "code",
   "execution_count": 96,
   "metadata": {},
   "outputs": [
    {
     "data": {
      "text/plain": [
       "Text(0.5, 1.0, 'Scaled total_charges')"
      ]
     },
     "execution_count": 96,
     "metadata": {},
     "output_type": "execute_result"
    },
    {
     "data": {
      "image/png": "[encoded data removed]",
      "text/plain": [
       "<Figure size 1152x648 with 6 Axes>"
      ]
     },
     "metadata": {
      "needs_background": "light"
     },
     "output_type": "display_data"
    }
   ],
   "source": [
    "# Visualize the results of quantile-transforming scaling\n",
    "\n",
    "plt.figure(figsize=(16, 9))\n",
    "plt.subplot(321)\n",
    "plt.hist(train_quantile.monthly_charges, bins=25, ec='black')\n",
    "plt.title('Original monthly_charges')\n",
    "plt.subplot(322)\n",
    "plt.hist(train_quantile.monthly_charges_scaled, bins=25, ec='black')\n",
    "plt.title('Scaled monthly_charges')\n",
    "\n",
    "plt.subplot(323)\n",
    "plt.hist(train_quantile.tenure, bins=25, ec='black')\n",
    "plt.title('Original tenure')\n",
    "plt.subplot(324)\n",
    "plt.hist(train_quantile.tenure_scaled, bins=25, ec='black')\n",
    "plt.title('Scaled tenure')\n",
    "plt.subplot(325)\n",
    "\n",
    "plt.hist(train_quantile.total_charges, bins=25, ec='black')\n",
    "plt.title('Original total_charges')\n",
    "plt.subplot(326)\n",
    "plt.hist(train_quantile.total_charges_scaled, bins=25, ec='black')\n",
    "plt.title('Scaled total_charges')"
   ]
  },
  {
   "cell_type": "markdown",
   "metadata": {},
   "source": [
    "### 4. Use the `QuantileTransformer`, but omit the `output_distribution` argument. Visualize your results. What do you notice?"
   ]
  },
  {
   "cell_type": "code",
   "execution_count": 97,
   "metadata": {},
   "outputs": [],
   "source": [
    "# Create the quantile transformer object\n",
    "\n",
    "X = columns_to_scale = ['monthly_charges', 'tenure', 'total_charges']\n",
    "\n",
    "scaled_cols = sklearn.preprocessing.quantile_transform(train[X])"
   ]
  },
  {
   "cell_type": "code",
   "execution_count": 98,
   "metadata": {},
   "outputs": [],
   "source": [
    "scaled_cols = pd.DataFrame(scaled_cols, \n",
    "                           index=train.index, \n",
    "                           columns = ['monthly_charges_scaled', 'tenure_scaled', 'total_charges_scaled'])\n",
    "\n",
    "train_quantile = pd.concat([train, scaled_cols], axis=1)"
   ]
  },
  {
   "cell_type": "code",
   "execution_count": 99,
   "metadata": {},
   "outputs": [
    {
     "data": {
      "text/plain": [
       "Text(0.5, 1.0, 'Scaled total_charges')"
      ]
     },
     "execution_count": 99,
     "metadata": {},
     "output_type": "execute_result"
    },
    {
     "data": {
      "image/png": "[encoded data removed]",
      "text/plain": [
       "<Figure size 1152x648 with 6 Axes>"
      ]
     },
     "metadata": {
      "needs_background": "light"
     },
     "output_type": "display_data"
    }
   ],
   "source": [
    "# Visualize the results of quantile-transforming scaling\n",
    "\n",
    "plt.figure(figsize=(16, 9))\n",
    "plt.subplot(321)\n",
    "plt.hist(train_quantile.monthly_charges, bins=25, ec='black')\n",
    "plt.title('Original monthly_charges')\n",
    "plt.subplot(322)\n",
    "plt.hist(train_quantile.monthly_charges_scaled, bins=25, ec='black')\n",
    "plt.title('Scaled monthly_charges')\n",
    "\n",
    "plt.subplot(323)\n",
    "plt.hist(train_quantile.tenure, bins=25, ec='black')\n",
    "plt.title('Original tenure')\n",
    "plt.subplot(324)\n",
    "plt.hist(train_quantile.tenure_scaled, bins=25, ec='black')\n",
    "plt.title('Scaled tenure')\n",
    "plt.subplot(325)\n",
    "\n",
    "plt.hist(train_quantile.total_charges, bins=25, ec='black')\n",
    "plt.title('Original total_charges')\n",
    "plt.subplot(326)\n",
    "plt.hist(train_quantile.total_charges_scaled, bins=25, ec='black')\n",
    "plt.title('Scaled total_charges')"
   ]
  },
  {
   "cell_type": "markdown",
   "metadata": {},
   "source": [
    "### 5. Based on the work you've done, choose a scaling method for your dataset. Write a function within your prepare.py that accepts as input the train, validate, and test data splits, and returns the scaled versions of each. Be sure to only learn the parameters for scaling from your training data!"
   ]
  },
  {
   "cell_type": "code",
   "execution_count": 2,
   "metadata": {},
   "outputs": [],
   "source": [
    "# Define a function named `scale_telco` for MinMax Scaling\n",
    "# Test the function\n",
    "\n",
    "train, validate, test = wrangle.wrangle_telco()"
   ]
  },
  {
   "cell_type": "code",
   "execution_count": 3,
   "metadata": {},
   "outputs": [
    {
     "data": {
      "text/html": [
       "<div>\n",
       "<style scoped>\n",
       "    .dataframe tbody tr th:only-of-type {\n",
       "        vertical-align: middle;\n",
       "    }\n",
       "\n",
       "    .dataframe tbody tr th {\n",
       "        vertical-align: top;\n",
       "    }\n",
       "\n",
       "    .dataframe thead th {\n",
       "        text-align: right;\n",
       "    }\n",
       "</style>\n",
       "<table border=\"1\" class=\"dataframe\">\n",
       "  <thead>\n",
       "    <tr style=\"text-align: right;\">\n",
       "      <th></th>\n",
       "      <th>customer_id</th>\n",
       "      <th>monthly_charges</th>\n",
       "      <th>tenure</th>\n",
       "      <th>total_charges</th>\n",
       "    </tr>\n",
       "  </thead>\n",
       "  <tbody>\n",
       "    <tr>\n",
       "      <th>728</th>\n",
       "      <td>4573-JKNAE</td>\n",
       "      <td>19.35</td>\n",
       "      <td>12</td>\n",
       "      <td>212.30</td>\n",
       "    </tr>\n",
       "    <tr>\n",
       "      <th>366</th>\n",
       "      <td>2229-DPMBI</td>\n",
       "      <td>19.50</td>\n",
       "      <td>8</td>\n",
       "      <td>162.15</td>\n",
       "    </tr>\n",
       "    <tr>\n",
       "      <th>262</th>\n",
       "      <td>1568-LJSZU</td>\n",
       "      <td>92.20</td>\n",
       "      <td>68</td>\n",
       "      <td>6392.85</td>\n",
       "    </tr>\n",
       "    <tr>\n",
       "      <th>1629</th>\n",
       "      <td>9661-JALZV</td>\n",
       "      <td>24.70</td>\n",
       "      <td>58</td>\n",
       "      <td>1519.00</td>\n",
       "    </tr>\n",
       "    <tr>\n",
       "      <th>568</th>\n",
       "      <td>3498-LZGQZ</td>\n",
       "      <td>19.15</td>\n",
       "      <td>63</td>\n",
       "      <td>1177.05</td>\n",
       "    </tr>\n",
       "  </tbody>\n",
       "</table>\n",
       "</div>"
      ],
      "text/plain": [
       "     customer_id  monthly_charges  tenure  total_charges\n",
       "728   4573-JKNAE            19.35      12         212.30\n",
       "366   2229-DPMBI            19.50       8         162.15\n",
       "262   1568-LJSZU            92.20      68        6392.85\n",
       "1629  9661-JALZV            24.70      58        1519.00\n",
       "568   3498-LZGQZ            19.15      63        1177.05"
      ]
     },
     "execution_count": 3,
     "metadata": {},
     "output_type": "execute_result"
    }
   ],
   "source": [
    "train.head()"
   ]
  },
  {
   "cell_type": "code",
   "execution_count": 4,
   "metadata": {},
   "outputs": [],
   "source": [
    "columns_to_scale = ['monthly_charges', 'tenure', 'total_charges']\n",
    "\n",
    "train, validate, test = prepare.scale_telco(train, validate, test, columns_to_scale)"
   ]
  },
  {
   "cell_type": "code",
   "execution_count": 5,
   "metadata": {},
   "outputs": [
    {
     "data": {
      "text/html": [
       "<div>\n",
       "<style scoped>\n",
       "    .dataframe tbody tr th:only-of-type {\n",
       "        vertical-align: middle;\n",
       "    }\n",
       "\n",
       "    .dataframe tbody tr th {\n",
       "        vertical-align: top;\n",
       "    }\n",
       "\n",
       "    .dataframe thead th {\n",
       "        text-align: right;\n",
       "    }\n",
       "</style>\n",
       "<table border=\"1\" class=\"dataframe\">\n",
       "  <thead>\n",
       "    <tr style=\"text-align: right;\">\n",
       "      <th></th>\n",
       "      <th>customer_id</th>\n",
       "      <th>monthly_charges</th>\n",
       "      <th>tenure</th>\n",
       "      <th>total_charges</th>\n",
       "      <th>monthly_charges_scaled</th>\n",
       "      <th>tenure_scaled</th>\n",
       "      <th>total_charges_scaled</th>\n",
       "    </tr>\n",
       "  </thead>\n",
       "  <tbody>\n",
       "    <tr>\n",
       "      <th>728</th>\n",
       "      <td>4573-JKNAE</td>\n",
       "      <td>19.35</td>\n",
       "      <td>12</td>\n",
       "      <td>212.30</td>\n",
       "      <td>0.005503</td>\n",
       "      <td>0.154930</td>\n",
       "      <td>0.022185</td>\n",
       "    </tr>\n",
       "    <tr>\n",
       "      <th>366</th>\n",
       "      <td>2229-DPMBI</td>\n",
       "      <td>19.50</td>\n",
       "      <td>8</td>\n",
       "      <td>162.15</td>\n",
       "      <td>0.007004</td>\n",
       "      <td>0.098592</td>\n",
       "      <td>0.016389</td>\n",
       "    </tr>\n",
       "    <tr>\n",
       "      <th>262</th>\n",
       "      <td>1568-LJSZU</td>\n",
       "      <td>92.20</td>\n",
       "      <td>68</td>\n",
       "      <td>6392.85</td>\n",
       "      <td>0.734367</td>\n",
       "      <td>0.943662</td>\n",
       "      <td>0.736526</td>\n",
       "    </tr>\n",
       "    <tr>\n",
       "      <th>1629</th>\n",
       "      <td>9661-JALZV</td>\n",
       "      <td>24.70</td>\n",
       "      <td>58</td>\n",
       "      <td>1519.00</td>\n",
       "      <td>0.059030</td>\n",
       "      <td>0.802817</td>\n",
       "      <td>0.173212</td>\n",
       "    </tr>\n",
       "    <tr>\n",
       "      <th>568</th>\n",
       "      <td>3498-LZGQZ</td>\n",
       "      <td>19.15</td>\n",
       "      <td>63</td>\n",
       "      <td>1177.05</td>\n",
       "      <td>0.003502</td>\n",
       "      <td>0.873239</td>\n",
       "      <td>0.133690</td>\n",
       "    </tr>\n",
       "  </tbody>\n",
       "</table>\n",
       "</div>"
      ],
      "text/plain": [
       "     customer_id  monthly_charges  tenure  total_charges  \\\n",
       "728   4573-JKNAE            19.35      12         212.30   \n",
       "366   2229-DPMBI            19.50       8         162.15   \n",
       "262   1568-LJSZU            92.20      68        6392.85   \n",
       "1629  9661-JALZV            24.70      58        1519.00   \n",
       "568   3498-LZGQZ            19.15      63        1177.05   \n",
       "\n",
       "      monthly_charges_scaled  tenure_scaled  total_charges_scaled  \n",
       "728                 0.005503       0.154930              0.022185  \n",
       "366                 0.007004       0.098592              0.016389  \n",
       "262                 0.734367       0.943662              0.736526  \n",
       "1629                0.059030       0.802817              0.173212  \n",
       "568                 0.003502       0.873239              0.133690  "
      ]
     },
     "execution_count": 5,
     "metadata": {},
     "output_type": "execute_result"
    }
   ],
   "source": [
    "train.head()"
   ]
  },
  {
   "cell_type": "code",
   "execution_count": 6,
   "metadata": {},
   "outputs": [
    {
     "data": {
      "text/plain": [
       "Text(0.5, 1.0, 'Scaled total_charges')"
      ]
     },
     "execution_count": 6,
     "metadata": {},
     "output_type": "execute_result"
    },
    {
     "data": {
      "image/png": "[encoded data removed]",
      "text/plain": [
       "<Figure size 1152x648 with 6 Axes>"
      ]
     },
     "metadata": {
      "needs_background": "light"
     },
     "output_type": "display_data"
    }
   ],
   "source": [
    "# Visualize the results of min-max scaling\n",
    "\n",
    "plt.figure(figsize=(16, 9))\n",
    "plt.subplot(321)\n",
    "plt.hist(train.monthly_charges, bins=25, ec='black')\n",
    "plt.title('Original monthly_charges')\n",
    "plt.subplot(322)\n",
    "plt.hist(train.monthly_charges_scaled, bins=25, ec='black')\n",
    "plt.title('Scaled monthly_charges')\n",
    "\n",
    "plt.subplot(323)\n",
    "plt.hist(train.tenure, bins=25, ec='black')\n",
    "plt.title('Original tenure')\n",
    "plt.subplot(324)\n",
    "plt.hist(train.tenure_scaled, bins=25, ec='black')\n",
    "plt.title('Scaled tenure')\n",
    "plt.subplot(325)\n",
    "\n",
    "plt.hist(train.total_charges, bins=25, ec='black')\n",
    "plt.title('Original total_charges')\n",
    "plt.subplot(326)\n",
    "plt.hist(train.total_charges_scaled, bins=25, ec='black')\n",
    "plt.title('Scaled total_charges')"
   ]
  },
  {
   "cell_type": "code",
   "execution_count": 7,
   "metadata": {},
   "outputs": [
    {
     "data": {
      "text/html": [
       "<div>\n",
       "<style scoped>\n",
       "    .dataframe tbody tr th:only-of-type {\n",
       "        vertical-align: middle;\n",
       "    }\n",
       "\n",
       "    .dataframe tbody tr th {\n",
       "        vertical-align: top;\n",
       "    }\n",
       "\n",
       "    .dataframe thead th {\n",
       "        text-align: right;\n",
       "    }\n",
       "</style>\n",
       "<table border=\"1\" class=\"dataframe\">\n",
       "  <thead>\n",
       "    <tr style=\"text-align: right;\">\n",
       "      <th></th>\n",
       "      <th>customer_id</th>\n",
       "      <th>monthly_charges</th>\n",
       "      <th>tenure</th>\n",
       "      <th>total_charges</th>\n",
       "      <th>monthly_charges_scaled</th>\n",
       "      <th>tenure_scaled</th>\n",
       "      <th>total_charges_scaled</th>\n",
       "    </tr>\n",
       "  </thead>\n",
       "  <tbody>\n",
       "    <tr>\n",
       "      <th>703</th>\n",
       "      <td>4312-KFRXN</td>\n",
       "      <td>25.40</td>\n",
       "      <td>72</td>\n",
       "      <td>1710.90</td>\n",
       "      <td>0.066033</td>\n",
       "      <td>1.000000</td>\n",
       "      <td>0.195392</td>\n",
       "    </tr>\n",
       "    <tr>\n",
       "      <th>62</th>\n",
       "      <td>0392-BZIUW</td>\n",
       "      <td>105.00</td>\n",
       "      <td>72</td>\n",
       "      <td>7589.80</td>\n",
       "      <td>0.862431</td>\n",
       "      <td>1.000000</td>\n",
       "      <td>0.874869</td>\n",
       "    </tr>\n",
       "    <tr>\n",
       "      <th>1363</th>\n",
       "      <td>8143-ETQTI</td>\n",
       "      <td>19.65</td>\n",
       "      <td>23</td>\n",
       "      <td>451.55</td>\n",
       "      <td>0.008504</td>\n",
       "      <td>0.309859</td>\n",
       "      <td>0.049838</td>\n",
       "    </tr>\n",
       "    <tr>\n",
       "      <th>919</th>\n",
       "      <td>5663-QBGIS</td>\n",
       "      <td>98.35</td>\n",
       "      <td>72</td>\n",
       "      <td>6929.40</td>\n",
       "      <td>0.795898</td>\n",
       "      <td>1.000000</td>\n",
       "      <td>0.798540</td>\n",
       "    </tr>\n",
       "    <tr>\n",
       "      <th>1647</th>\n",
       "      <td>9788-HNGUT</td>\n",
       "      <td>116.95</td>\n",
       "      <td>72</td>\n",
       "      <td>8594.40</td>\n",
       "      <td>0.981991</td>\n",
       "      <td>1.000000</td>\n",
       "      <td>0.990979</td>\n",
       "    </tr>\n",
       "  </tbody>\n",
       "</table>\n",
       "</div>"
      ],
      "text/plain": [
       "     customer_id  monthly_charges  tenure  total_charges  \\\n",
       "703   4312-KFRXN            25.40      72        1710.90   \n",
       "62    0392-BZIUW           105.00      72        7589.80   \n",
       "1363  8143-ETQTI            19.65      23         451.55   \n",
       "919   5663-QBGIS            98.35      72        6929.40   \n",
       "1647  9788-HNGUT           116.95      72        8594.40   \n",
       "\n",
       "      monthly_charges_scaled  tenure_scaled  total_charges_scaled  \n",
       "703                 0.066033       1.000000              0.195392  \n",
       "62                  0.862431       1.000000              0.874869  \n",
       "1363                0.008504       0.309859              0.049838  \n",
       "919                 0.795898       1.000000              0.798540  \n",
       "1647                0.981991       1.000000              0.990979  "
      ]
     },
     "execution_count": 7,
     "metadata": {},
     "output_type": "execute_result"
    }
   ],
   "source": [
    "validate.head()"
   ]
  },
  {
   "cell_type": "code",
   "execution_count": 8,
   "metadata": {},
   "outputs": [
    {
     "data": {
      "text/html": [
       "<div>\n",
       "<style scoped>\n",
       "    .dataframe tbody tr th:only-of-type {\n",
       "        vertical-align: middle;\n",
       "    }\n",
       "\n",
       "    .dataframe tbody tr th {\n",
       "        vertical-align: top;\n",
       "    }\n",
       "\n",
       "    .dataframe thead th {\n",
       "        text-align: right;\n",
       "    }\n",
       "</style>\n",
       "<table border=\"1\" class=\"dataframe\">\n",
       "  <thead>\n",
       "    <tr style=\"text-align: right;\">\n",
       "      <th></th>\n",
       "      <th>customer_id</th>\n",
       "      <th>monthly_charges</th>\n",
       "      <th>tenure</th>\n",
       "      <th>total_charges</th>\n",
       "      <th>monthly_charges_scaled</th>\n",
       "      <th>tenure_scaled</th>\n",
       "      <th>total_charges_scaled</th>\n",
       "    </tr>\n",
       "  </thead>\n",
       "  <tbody>\n",
       "    <tr>\n",
       "      <th>626</th>\n",
       "      <td>3795-CAWEX</td>\n",
       "      <td>116.55</td>\n",
       "      <td>70</td>\n",
       "      <td>8152.30</td>\n",
       "      <td>0.977989</td>\n",
       "      <td>0.971831</td>\n",
       "      <td>0.939882</td>\n",
       "    </tr>\n",
       "    <tr>\n",
       "      <th>1505</th>\n",
       "      <td>8929-KSWIH</td>\n",
       "      <td>99.30</td>\n",
       "      <td>25</td>\n",
       "      <td>2513.50</td>\n",
       "      <td>0.805403</td>\n",
       "      <td>0.338028</td>\n",
       "      <td>0.288155</td>\n",
       "    </tr>\n",
       "    <tr>\n",
       "      <th>411</th>\n",
       "      <td>2499-AJYUA</td>\n",
       "      <td>110.80</td>\n",
       "      <td>72</td>\n",
       "      <td>7882.25</td>\n",
       "      <td>0.920460</td>\n",
       "      <td>1.000000</td>\n",
       "      <td>0.908670</td>\n",
       "    </tr>\n",
       "    <tr>\n",
       "      <th>1179</th>\n",
       "      <td>7037-MTYVW</td>\n",
       "      <td>85.40</td>\n",
       "      <td>38</td>\n",
       "      <td>3297.00</td>\n",
       "      <td>0.666333</td>\n",
       "      <td>0.521127</td>\n",
       "      <td>0.378712</td>\n",
       "    </tr>\n",
       "    <tr>\n",
       "      <th>1541</th>\n",
       "      <td>9140-CZQZZ</td>\n",
       "      <td>79.60</td>\n",
       "      <td>68</td>\n",
       "      <td>5515.80</td>\n",
       "      <td>0.608304</td>\n",
       "      <td>0.943662</td>\n",
       "      <td>0.635158</td>\n",
       "    </tr>\n",
       "  </tbody>\n",
       "</table>\n",
       "</div>"
      ],
      "text/plain": [
       "     customer_id  monthly_charges  tenure  total_charges  \\\n",
       "626   3795-CAWEX           116.55      70        8152.30   \n",
       "1505  8929-KSWIH            99.30      25        2513.50   \n",
       "411   2499-AJYUA           110.80      72        7882.25   \n",
       "1179  7037-MTYVW            85.40      38        3297.00   \n",
       "1541  9140-CZQZZ            79.60      68        5515.80   \n",
       "\n",
       "      monthly_charges_scaled  tenure_scaled  total_charges_scaled  \n",
       "626                 0.977989       0.971831              0.939882  \n",
       "1505                0.805403       0.338028              0.288155  \n",
       "411                 0.920460       1.000000              0.908670  \n",
       "1179                0.666333       0.521127              0.378712  \n",
       "1541                0.608304       0.943662              0.635158  "
      ]
     },
     "execution_count": 8,
     "metadata": {},
     "output_type": "execute_result"
    }
   ],
   "source": [
    "test.head()"
   ]
  },
  {
   "cell_type": "code",
   "execution_count": null,
   "metadata": {},
   "outputs": [],
   "source": []
  }
 ],
 "metadata": {
  "kernelspec": {
   "display_name": "Python 3",
   "language": "python",
   "name": "python3"
  },
  "language_info": {
   "codemirror_mode": {
    "name": "ipython",
    "version": 3
   },
   "file_extension": ".py",
   "mimetype": "text/x-python",
   "name": "python",
   "nbconvert_exporter": "python",
   "pygments_lexer": "ipython3",
   "version": "3.7.6"
  }
 },
 "nbformat": 4,
 "nbformat_minor": 4
}
